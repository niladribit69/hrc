{
 "cells": [
  {
   "cell_type": "code",
   "execution_count": 1,
   "metadata": {},
   "outputs": [],
   "source": [
    "\n",
    "#1.importing libraries\n",
    "import numpy as np\n",
    "import pandas as pd\n",
    "import matplotlib.pyplot as plt\n",
    "import seaborn as sns\n",
    "\n",
    "#2.loading the dataset\n",
    "mydata=pd.read_csv('Social_Network_Ads.csv')\n",
    "\n",
    "X=mydata.iloc[:,2:4].values\n",
    "Y=mydata.iloc[:,4].values\n",
    "\n",
    "#FEATURE SCALING           #no need of scaling only need for graph\n",
    "from sklearn.preprocessing import StandardScaler\n",
    "sc=StandardScaler()\n",
    "X=sc.fit_transform(X)\n",
    "\n",
    "#TRAIN AND TEST SPLIT\n",
    "from sklearn.model_selection import train_test_split\n",
    "X_train,X_test,Y_train,Y_test=train_test_split(X,Y,test_size=0.25,random_state=0)\n",
    "\n",
    "#FITTING DTREE ON DATA\n",
    "from sklearn.ensemble import RandomForestClassifier\n",
    "classifier= RandomForestClassifier(n_estimators=10,criterion='entropy',random_state=0)\n",
    "classifier.fit(X_train,Y_train)\n",
    "\n",
    "\n",
    "Y_pred=classifier.predict(X_test)\n",
    "\n",
    "\n",
    "#CREATING CONFUSION MATRIX\n",
    "from sklearn.metrics import confusion_matrix\n",
    "cm=confusion_matrix(Y_test,Y_pred)\n"
   ]
  },
  {
   "cell_type": "code",
   "execution_count": 2,
   "metadata": {},
   "outputs": [
    {
     "name": "stdout",
     "output_type": "stream",
     "text": [
      "[[63  5]\n",
      " [ 3 29]]\n"
     ]
    }
   ],
   "source": [
    "print(cm)"
   ]
  },
  {
   "cell_type": "code",
   "execution_count": null,
   "metadata": {},
   "outputs": [],
   "source": []
  }
 ],
 "metadata": {
  "kernelspec": {
   "display_name": "Python 3",
   "language": "python",
   "name": "python3"
  },
  "language_info": {
   "codemirror_mode": {
    "name": "ipython",
    "version": 3
   },
   "file_extension": ".py",
   "mimetype": "text/x-python",
   "name": "python",
   "nbconvert_exporter": "python",
   "pygments_lexer": "ipython3",
   "version": "3.7.4"
  }
 },
 "nbformat": 4,
 "nbformat_minor": 2
}
