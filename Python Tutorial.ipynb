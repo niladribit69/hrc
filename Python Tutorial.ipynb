{
 "cells": [
  {
   "cell_type": "markdown",
   "metadata": {
    "colab_type": "text",
    "id": "ESzWplFzgWQl"
   },
   "source": [
    "# Hey I am Jupyter. I am here to make your coding damn easy. Wanna see?\n"
   ]
  },
  {
   "cell_type": "markdown",
   "metadata": {
    "colab_type": "text",
    "id": "dj1KPxOOgWQm"
   },
   "source": [
    "### Hello world"
   ]
  },
  {
   "cell_type": "code",
   "execution_count": 0,
   "metadata": {
    "colab": {},
    "colab_type": "code",
    "id": "MbB0IFbsgWQn",
    "outputId": "b3f58487-678e-4f61-d3ae-f81746c64914"
   },
   "outputs": [
    {
     "name": "stdout",
     "output_type": "stream",
     "text": [
      "Hello World\n"
     ]
    }
   ],
   "source": [
    "print(\"Hello World\")"
   ]
  },
  {
   "cell_type": "code",
   "execution_count": 0,
   "metadata": {
    "colab": {},
    "colab_type": "code",
    "id": "cllHYXFGgWQu",
    "outputId": "371412ed-3ebe-43ba-a8dd-9b7acd846e42"
   },
   "outputs": [
    {
     "name": "stdout",
     "output_type": "stream",
     "text": [
      "welcome to ML\n"
     ]
    }
   ],
   "source": [
    "print(\"welcome to ML\")"
   ]
  },
  {
   "cell_type": "code",
   "execution_count": 0,
   "metadata": {
    "colab": {},
    "colab_type": "code",
    "id": "JVCnp_TlgWQx",
    "outputId": "efc90ae6-6d08-4e25-ee50-7e9662bbbeb5"
   },
   "outputs": [
    {
     "name": "stdout",
     "output_type": "stream",
     "text": [
      "3\n"
     ]
    }
   ],
   "source": [
    "a=1\n",
    "b=2\n",
    "print(a+b)"
   ]
  },
  {
   "cell_type": "code",
   "execution_count": 0,
   "metadata": {
    "colab": {},
    "colab_type": "code",
    "id": "XXVdBLfcgWQ1",
    "outputId": "c86755b7-c9ba-4191-880d-fff9dbb02e8d"
   },
   "outputs": [
    {
     "data": {
      "text/plain": [
       "3"
      ]
     },
     "execution_count": 81,
     "metadata": {
      "tags": []
     },
     "output_type": "execute_result"
    }
   ],
   "source": []
  },
  {
   "cell_type": "markdown",
   "metadata": {
    "colab_type": "text",
    "id": "kH3B3SZygWQ5"
   },
   "source": [
    "### Indentation"
   ]
  },
  {
   "cell_type": "code",
   "execution_count": 0,
   "metadata": {
    "colab": {},
    "colab_type": "code",
    "id": "yVfSZxYVgWQ6"
   },
   "outputs": [],
   "source": [
    " a=1\n",
    " b=2"
   ]
  },
  {
   "cell_type": "code",
   "execution_count": 0,
   "metadata": {
    "colab": {},
    "colab_type": "code",
    "id": "eHDP4Ps7gWQ9",
    "outputId": "e3011663-d50a-4f45-b1e0-78e4b2d19465"
   },
   "outputs": [
    {
     "ename": "IndentationError",
     "evalue": "unexpected indent (<ipython-input-85-77fb8409baf7>, line 3)",
     "output_type": "error",
     "traceback": [
      "\u001b[0;36m  File \u001b[0;32m\"<ipython-input-85-77fb8409baf7>\"\u001b[0;36m, line \u001b[0;32m3\u001b[0m\n\u001b[0;31m    b=2\u001b[0m\n\u001b[0m    ^\u001b[0m\n\u001b[0;31mIndentationError\u001b[0m\u001b[0;31m:\u001b[0m unexpected indent\n"
     ]
    }
   ],
   "source": [
    "print(\"do additon\")\n",
    "a=1\n",
    "    b=2\n",
    "    c=a+b\n",
    "print(c)"
   ]
  },
  {
   "cell_type": "markdown",
   "metadata": {
    "colab_type": "text",
    "id": "CGE0jObngWRA"
   },
   "source": [
    "### Semicolon"
   ]
  },
  {
   "cell_type": "code",
   "execution_count": 0,
   "metadata": {
    "colab": {},
    "colab_type": "code",
    "id": "ds4ZkSfwgWRB",
    "outputId": "ddd3e056-75a9-4ea3-ce08-ea796c89aca9"
   },
   "outputs": [
    {
     "name": "stdout",
     "output_type": "stream",
     "text": [
      "5\n"
     ]
    }
   ],
   "source": [
    "var1=1; var2=2\n",
    "var1=5;\n",
    "print(var1)"
   ]
  },
  {
   "cell_type": "markdown",
   "metadata": {
    "colab_type": "text",
    "id": "1KrYA42igWRE"
   },
   "source": [
    "### operators "
   ]
  },
  {
   "cell_type": "code",
   "execution_count": 0,
   "metadata": {
    "colab": {},
    "colab_type": "code",
    "id": "Xlnge0MzgWRF",
    "outputId": "9b942bf0-564b-4902-c768-095e5021189c"
   },
   "outputs": [
    {
     "name": "stdout",
     "output_type": "stream",
     "text": [
      "4\n"
     ]
    }
   ],
   "source": [
    "num1=2\n",
    "print(num1**2)"
   ]
  },
  {
   "cell_type": "code",
   "execution_count": 0,
   "metadata": {
    "colab": {},
    "colab_type": "code",
    "id": "ZMnrjntGgWRJ",
    "outputId": "42d68abf-9148-41e4-d547-63a7654e255e"
   },
   "outputs": [
    {
     "data": {
      "text/plain": [
       "1.0"
      ]
     },
     "execution_count": 95,
     "metadata": {
      "tags": []
     },
     "output_type": "execute_result"
    }
   ],
   "source": [
    "2/2"
   ]
  },
  {
   "cell_type": "markdown",
   "metadata": {
    "colab_type": "text",
    "id": "oKvEARQQgWRN"
   },
   "source": [
    "### Variable"
   ]
  },
  {
   "cell_type": "code",
   "execution_count": 0,
   "metadata": {
    "colab": {},
    "colab_type": "code",
    "id": "468fS4YhgWRO"
   },
   "outputs": [],
   "source": [
    "my_int_var=10"
   ]
  },
  {
   "cell_type": "code",
   "execution_count": 0,
   "metadata": {
    "colab": {},
    "colab_type": "code",
    "id": "G29z13oVgWRR"
   },
   "outputs": [],
   "source": [
    "my_char_var=\"Hello\""
   ]
  },
  {
   "cell_type": "markdown",
   "metadata": {
    "colab_type": "text",
    "id": "GEoE29rXgWRT"
   },
   "source": [
    "### strongly and Dynamically Typed example"
   ]
  },
  {
   "cell_type": "code",
   "execution_count": 0,
   "metadata": {
    "colab": {},
    "colab_type": "code",
    "id": "qXzxp1ljgWRU",
    "outputId": "ba388efb-3c92-474c-d3eb-114e180b79c7"
   },
   "outputs": [
    {
     "ename": "TypeError",
     "evalue": "unsupported operand type(s) for +: 'int' and 'str'",
     "output_type": "error",
     "traceback": [
      "\u001b[0;31m---------------------------------------------------------------------------\u001b[0m",
      "\u001b[0;31mTypeError\u001b[0m                                 Traceback (most recent call last)",
      "\u001b[0;32m<ipython-input-98-cf0b4d7adef1>\u001b[0m in \u001b[0;36m<module>\u001b[0;34m()\u001b[0m\n\u001b[0;32m----> 1\u001b[0;31m \u001b[0mmy_check_var\u001b[0m\u001b[1;33m=\u001b[0m\u001b[0mmy_int_var\u001b[0m\u001b[1;33m+\u001b[0m\u001b[0mmy_char_var\u001b[0m\u001b[1;33m\u001b[0m\u001b[1;33m\u001b[0m\u001b[0m\n\u001b[0m",
      "\u001b[0;31mTypeError\u001b[0m: unsupported operand type(s) for +: 'int' and 'str'"
     ]
    }
   ],
   "source": [
    "my_check_var=my_int_var+my_char_var"
   ]
  },
  {
   "cell_type": "code",
   "execution_count": 0,
   "metadata": {
    "colab": {},
    "colab_type": "code",
    "id": "JvCTJ52ugWRY"
   },
   "outputs": [],
   "source": []
  },
  {
   "cell_type": "code",
   "execution_count": 0,
   "metadata": {
    "colab": {},
    "colab_type": "code",
    "id": "qkmZVlUvgWRb"
   },
   "outputs": [],
   "source": []
  },
  {
   "cell_type": "markdown",
   "metadata": {
    "colab_type": "text",
    "id": "LEM69ku_gWRf"
   },
   "source": [
    "###  Data Type"
   ]
  },
  {
   "cell_type": "code",
   "execution_count": 0,
   "metadata": {
    "colab": {},
    "colab_type": "code",
    "id": "GG9h_aIEgWRg",
    "outputId": "3d465b37-2f90-4585-e644-5c092b0663d8"
   },
   "outputs": [
    {
     "data": {
      "text/plain": [
       "int"
      ]
     },
     "execution_count": 99,
     "metadata": {
      "tags": []
     },
     "output_type": "execute_result"
    }
   ],
   "source": [
    "type(my_int_var)"
   ]
  },
  {
   "cell_type": "code",
   "execution_count": 0,
   "metadata": {
    "colab": {},
    "colab_type": "code",
    "id": "kd89xirpgWRl",
    "outputId": "82c9fa7a-f3db-4041-8c6a-da8d411f4883"
   },
   "outputs": [
    {
     "data": {
      "text/plain": [
       "str"
      ]
     },
     "execution_count": 100,
     "metadata": {
      "tags": []
     },
     "output_type": "execute_result"
    }
   ],
   "source": [
    "type(my_char_var)"
   ]
  },
  {
   "cell_type": "code",
   "execution_count": 0,
   "metadata": {
    "colab": {},
    "colab_type": "code",
    "id": "9d6Rr20OgWRs",
    "outputId": "ab8dedd3-19ba-49aa-ce42-e8f8f73e3b18"
   },
   "outputs": [
    {
     "data": {
      "text/plain": [
       "float"
      ]
     },
     "execution_count": 101,
     "metadata": {
      "tags": []
     },
     "output_type": "execute_result"
    }
   ],
   "source": [
    "my_float_var=3.14\n",
    "type(my_float_var)"
   ]
  },
  {
   "cell_type": "markdown",
   "metadata": {
    "colab_type": "text",
    "id": "QXm2sra8gWRw"
   },
   "source": [
    "### long Int doesn't exist in Python 3"
   ]
  },
  {
   "cell_type": "code",
   "execution_count": 0,
   "metadata": {
    "colab": {},
    "colab_type": "code",
    "id": "aBoxdHvGgWRx",
    "outputId": "a4d57cc7-f8a5-4275-fe2d-fd144acb0c94"
   },
   "outputs": [
    {
     "ename": "SyntaxError",
     "evalue": "invalid syntax (<ipython-input-18-4787756b0958>, line 1)",
     "output_type": "error",
     "traceback": [
      "\u001b[0;36m  File \u001b[0;32m\"<ipython-input-18-4787756b0958>\"\u001b[0;36m, line \u001b[0;32m1\u001b[0m\n\u001b[0;31m    x=123L\u001b[0m\n\u001b[0m         ^\u001b[0m\n\u001b[0;31mSyntaxError\u001b[0m\u001b[0;31m:\u001b[0m invalid syntax\n"
     ]
    }
   ],
   "source": [
    "x=123L"
   ]
  },
  {
   "cell_type": "markdown",
   "metadata": {
    "colab_type": "text",
    "id": "d73BDUG2gWR0"
   },
   "source": [
    "### Variable name rules"
   ]
  },
  {
   "cell_type": "code",
   "execution_count": 0,
   "metadata": {
    "colab": {},
    "colab_type": "code",
    "id": "DQ04yiQWgWR1",
    "outputId": "87720df3-8ac3-40c8-a134-30841c0b0571"
   },
   "outputs": [
    {
     "ename": "SyntaxError",
     "evalue": "invalid token (<ipython-input-102-039892dc663a>, line 1)",
     "output_type": "error",
     "traceback": [
      "\u001b[0;36m  File \u001b[0;32m\"<ipython-input-102-039892dc663a>\"\u001b[0;36m, line \u001b[0;32m1\u001b[0m\n\u001b[0;31m    9_num=9\u001b[0m\n\u001b[0m     ^\u001b[0m\n\u001b[0;31mSyntaxError\u001b[0m\u001b[0;31m:\u001b[0m invalid token\n"
     ]
    }
   ],
   "source": [
    "9_num=9"
   ]
  },
  {
   "cell_type": "code",
   "execution_count": 0,
   "metadata": {
    "colab": {},
    "colab_type": "code",
    "id": "dEJlgpLhgWR6",
    "outputId": "10637e20-9a12-4990-9251-24f895345cc4"
   },
   "outputs": [
    {
     "name": "stdout",
     "output_type": "stream",
     "text": [
      "9 10\n"
     ]
    }
   ],
   "source": [
    "_num=9\n",
    "num=10\n",
    "print(_num,num)"
   ]
  },
  {
   "cell_type": "code",
   "execution_count": 0,
   "metadata": {
    "colab": {},
    "colab_type": "code",
    "collapsed": true,
    "id": "K5PDAdyPgWR9"
   },
   "outputs": [],
   "source": [
    "_=2"
   ]
  },
  {
   "cell_type": "code",
   "execution_count": 0,
   "metadata": {
    "colab": {},
    "colab_type": "code",
    "collapsed": true,
    "id": "TWk1Z-XIgWR_"
   },
   "outputs": [],
   "source": []
  },
  {
   "cell_type": "code",
   "execution_count": 0,
   "metadata": {
    "colab": {},
    "colab_type": "code",
    "id": "U0pEv-Q8gWSB",
    "outputId": "0094d865-4d88-4d06-b0b3-1bcbb7c47c3f"
   },
   "outputs": [
    {
     "ename": "NameError",
     "evalue": "name 'caseCheck' is not defined",
     "output_type": "error",
     "traceback": [
      "\u001b[0;31m---------------------------------------------------------------------------\u001b[0m",
      "\u001b[0;31mNameError\u001b[0m                                 Traceback (most recent call last)",
      "\u001b[0;32m<ipython-input-104-cc42e3735353>\u001b[0m in \u001b[0;36m<module>\u001b[0;34m()\u001b[0m\n\u001b[1;32m      1\u001b[0m \u001b[0mcasecheck\u001b[0m\u001b[1;33m=\u001b[0m\u001b[1;36m10\u001b[0m\u001b[1;33m\u001b[0m\u001b[1;33m\u001b[0m\u001b[0m\n\u001b[0;32m----> 2\u001b[0;31m \u001b[0mprint\u001b[0m\u001b[1;33m(\u001b[0m\u001b[0mcaseCheck\u001b[0m\u001b[1;33m)\u001b[0m\u001b[1;33m\u001b[0m\u001b[1;33m\u001b[0m\u001b[0m\n\u001b[0m",
      "\u001b[0;31mNameError\u001b[0m: name 'caseCheck' is not defined"
     ]
    }
   ],
   "source": [
    "casecheck=10\n",
    "print(caseCheck)"
   ]
  },
  {
   "cell_type": "code",
   "execution_count": 0,
   "metadata": {
    "colab": {},
    "colab_type": "code",
    "id": "I2we98HwgWSF",
    "outputId": "33472e66-c5f5-4772-fb74-1c3e10a692f7"
   },
   "outputs": [
    {
     "ename": "SyntaxError",
     "evalue": "can't assign to operator (<ipython-input-105-d5ef2616a552>, line 1)",
     "output_type": "error",
     "traceback": [
      "\u001b[0;36m  File \u001b[0;32m\"<ipython-input-105-d5ef2616a552>\"\u001b[0;36m, line \u001b[0;32m1\u001b[0m\n\u001b[0;31m    multi*ply=10*20\u001b[0m\n\u001b[0m                   ^\u001b[0m\n\u001b[0;31mSyntaxError\u001b[0m\u001b[0;31m:\u001b[0m can't assign to operator\n"
     ]
    }
   ],
   "source": [
    "multi*ply=10*20"
   ]
  },
  {
   "cell_type": "code",
   "execution_count": 0,
   "metadata": {
    "colab": {},
    "colab_type": "code",
    "id": "PbTQOr2kgWSH",
    "outputId": "d1e1acd2-7fec-4cf1-a81f-cf09431344f7"
   },
   "outputs": [
    {
     "ename": "SyntaxError",
     "evalue": "invalid syntax (<ipython-input-106-3aa9fe73d53b>, line 1)",
     "output_type": "error",
     "traceback": [
      "\u001b[0;36m  File \u001b[0;32m\"<ipython-input-106-3aa9fe73d53b>\"\u001b[0;36m, line \u001b[0;32m1\u001b[0m\n\u001b[0;31m    is=10\u001b[0m\n\u001b[0m     ^\u001b[0m\n\u001b[0;31mSyntaxError\u001b[0m\u001b[0;31m:\u001b[0m invalid syntax\n"
     ]
    }
   ],
   "source": [
    "is=10"
   ]
  },
  {
   "cell_type": "markdown",
   "metadata": {
    "colab_type": "text",
    "id": "RWajGgnrgWSL"
   },
   "source": [
    "### Variable Assignment"
   ]
  },
  {
   "cell_type": "code",
   "execution_count": 0,
   "metadata": {
    "colab": {},
    "colab_type": "code",
    "id": "lTedEfesgWSM",
    "outputId": "5fe05ded-182f-4239-b1f4-bcce5994e9b0"
   },
   "outputs": [
    {
     "ename": "NameError",
     "evalue": "name 'new_var' is not defined",
     "output_type": "error",
     "traceback": [
      "\u001b[0;31m---------------------------------------------------------------------------\u001b[0m",
      "\u001b[0;31mNameError\u001b[0m                                 Traceback (most recent call last)",
      "\u001b[0;32m<ipython-input-107-891b880746f4>\u001b[0m in \u001b[0;36m<module>\u001b[0;34m()\u001b[0m\n\u001b[0;32m----> 1\u001b[0;31m \u001b[0mprint\u001b[0m\u001b[1;33m(\u001b[0m\u001b[0mnew_var\u001b[0m\u001b[1;33m)\u001b[0m\u001b[1;33m\u001b[0m\u001b[1;33m\u001b[0m\u001b[0m\n\u001b[0m",
      "\u001b[0;31mNameError\u001b[0m: name 'new_var' is not defined"
     ]
    }
   ],
   "source": [
    "print(new_var)"
   ]
  },
  {
   "cell_type": "markdown",
   "metadata": {
    "colab_type": "text",
    "id": "3tbOG78TgWSP"
   },
   "source": [
    "### Swaping example"
   ]
  },
  {
   "cell_type": "code",
   "execution_count": 0,
   "metadata": {
    "colab": {},
    "colab_type": "code",
    "id": "CMpcjEjrgWSP",
    "outputId": "04bf476a-239c-459b-e4d3-fab4b7800eb9"
   },
   "outputs": [
    {
     "name": "stdout",
     "output_type": "stream",
     "text": [
      "20 10\n"
     ]
    }
   ],
   "source": [
    "a=10\n",
    "b=20\n",
    "a,b=b,a\n",
    "print(a,b)"
   ]
  },
  {
   "cell_type": "markdown",
   "metadata": {
    "colab_type": "text",
    "id": "ZpKO6_FmgWSS"
   },
   "source": [
    "### List Examples"
   ]
  },
  {
   "cell_type": "code",
   "execution_count": 0,
   "metadata": {
    "colab": {},
    "colab_type": "code",
    "id": "5NFTmexwgWST"
   },
   "outputs": [],
   "source": [
    "x=[]"
   ]
  },
  {
   "cell_type": "code",
   "execution_count": 0,
   "metadata": {
    "colab": {},
    "colab_type": "code",
    "id": "3Ptza9z_gWSV",
    "outputId": "adc09cb7-b644-4e72-b4e1-bc3869f50d72"
   },
   "outputs": [
    {
     "name": "stdout",
     "output_type": "stream",
     "text": [
      "[1, 2, 3, [1, 2, 3, 'hello', [1, 2, 3]]]\n"
     ]
    }
   ],
   "source": [
    "x=[1,2,3]\n",
    "y=[1,2,3,\"hello\",x]\n",
    "nested_list=[1,2,3,y]\n",
    "print(nested_list)"
   ]
  },
  {
   "cell_type": "code",
   "execution_count": 0,
   "metadata": {
    "colab": {},
    "colab_type": "code",
    "id": "LMSc_oVMgWSZ",
    "outputId": "ab757eba-d19f-45f3-cd98-d10301b19ad6"
   },
   "outputs": [
    {
     "data": {
      "text/plain": [
       "3"
      ]
     },
     "execution_count": 112,
     "metadata": {
      "tags": []
     },
     "output_type": "execute_result"
    }
   ],
   "source": [
    "nested_list[3][4][2]"
   ]
  },
  {
   "cell_type": "code",
   "execution_count": 0,
   "metadata": {
    "colab": {},
    "colab_type": "code",
    "id": "n0Suhr1igWSd"
   },
   "outputs": [],
   "source": [
    "check_list=[1,2,3,4,5,6,7]"
   ]
  },
  {
   "cell_type": "markdown",
   "metadata": {
    "colab_type": "text",
    "id": "yvfjumi_gWSf"
   },
   "source": [
    "### Printing from and to "
   ]
  },
  {
   "cell_type": "code",
   "execution_count": 0,
   "metadata": {
    "colab": {},
    "colab_type": "code",
    "id": "4JufjrKsgWSg",
    "outputId": "ed12f525-2fd5-4ac9-c618-ecd34ae95524"
   },
   "outputs": [
    {
     "data": {
      "text/plain": [
       "[1, 2, 3]"
      ]
     },
     "execution_count": 9,
     "metadata": {
      "tags": []
     },
     "output_type": "execute_result"
    }
   ],
   "source": [
    "check_list[:3]"
   ]
  },
  {
   "cell_type": "code",
   "execution_count": 0,
   "metadata": {
    "colab": {},
    "colab_type": "code",
    "id": "S3Z62RczgWSj",
    "outputId": "f814b1a4-2701-45c8-d8e3-9efbad6d6d60"
   },
   "outputs": [
    {
     "data": {
      "text/plain": [
       "[3, 4, 5, 6, 7]"
      ]
     },
     "execution_count": 10,
     "metadata": {
      "tags": []
     },
     "output_type": "execute_result"
    }
   ],
   "source": [
    "check_list[2:]"
   ]
  },
  {
   "cell_type": "code",
   "execution_count": 0,
   "metadata": {
    "colab": {},
    "colab_type": "code",
    "id": "50rVZkqCgWSm",
    "outputId": "ca5e6ef2-aaaf-403a-9fc5-bca6a14fdc1c"
   },
   "outputs": [
    {
     "data": {
      "text/plain": [
       "[1, 2, 3, 4, 5, 6]"
      ]
     },
     "execution_count": 21,
     "metadata": {
      "tags": []
     },
     "output_type": "execute_result"
    }
   ],
   "source": [
    "check_list[:-1]"
   ]
  },
  {
   "cell_type": "code",
   "execution_count": 0,
   "metadata": {
    "colab": {},
    "colab_type": "code",
    "id": "PZAqpPhEgWSs"
   },
   "outputs": [],
   "source": [
    "m"
   ]
  },
  {
   "cell_type": "markdown",
   "metadata": {
    "colab_type": "text",
    "id": "XTfVKocsgWSv"
   },
   "source": [
    "### List methods"
   ]
  },
  {
   "cell_type": "code",
   "execution_count": 0,
   "metadata": {
    "colab": {},
    "colab_type": "code",
    "collapsed": true,
    "id": "oIUnFsIAgWSx"
   },
   "outputs": [],
   "source": [
    "x=[1,2,3]\n",
    "x.append(4)"
   ]
  },
  {
   "cell_type": "code",
   "execution_count": 0,
   "metadata": {
    "colab": {},
    "colab_type": "code",
    "id": "9vy6oIJFgWS5",
    "outputId": "872a8f64-96e1-47ab-e9a1-e8387ab7a428"
   },
   "outputs": [
    {
     "data": {
      "text/plain": [
       "10"
      ]
     },
     "execution_count": 54,
     "metadata": {
      "tags": []
     },
     "output_type": "execute_result"
    }
   ],
   "source": [
    "sum(x)"
   ]
  },
  {
   "cell_type": "code",
   "execution_count": 0,
   "metadata": {
    "colab": {},
    "colab_type": "code",
    "id": "CQN9oCcagWS8",
    "outputId": "a05b8fae-cec8-44b0-848f-ce4e18472a9c"
   },
   "outputs": [
    {
     "name": "stdout",
     "output_type": "stream",
     "text": [
      "[2, 4, 6, 8]\n"
     ]
    }
   ],
   "source": [
    "def add(x):\n",
    "    return x*2;\n",
    "y=list(map(add,x))\n",
    "print(y)"
   ]
  },
  {
   "cell_type": "code",
   "execution_count": 0,
   "metadata": {
    "colab": {},
    "colab_type": "code",
    "id": "K499LV2DgWTC"
   },
   "outputs": [],
   "source": [
    "y=list(map(lambda i: i*2,x))"
   ]
  },
  {
   "cell_type": "code",
   "execution_count": 0,
   "metadata": {
    "colab": {},
    "colab_type": "code",
    "id": "QCpZP81ogWTF"
   },
   "outputs": [],
   "source": [
    "y[2]=100"
   ]
  },
  {
   "cell_type": "code",
   "execution_count": 0,
   "metadata": {
    "colab": {},
    "colab_type": "code",
    "id": "7b3dVFGngWTH",
    "outputId": "2efa9afa-e2f2-4613-cdfc-13e0989b7c6d"
   },
   "outputs": [
    {
     "data": {
      "text/plain": [
       "[2, 4, 100, 8]"
      ]
     },
     "execution_count": 84,
     "metadata": {
      "tags": []
     },
     "output_type": "execute_result"
    }
   ],
   "source": [
    "y"
   ]
  },
  {
   "cell_type": "markdown",
   "metadata": {
    "colab_type": "text",
    "id": "XhKeAW4mgWTJ"
   },
   "source": [
    "### Tuple\n"
   ]
  },
  {
   "cell_type": "code",
   "execution_count": 0,
   "metadata": {
    "colab": {},
    "colab_type": "code",
    "collapsed": true,
    "id": "jnsWAkVYgWTM"
   },
   "outputs": [],
   "source": [
    "tuple_2=(1,2,3,4,5,6,5,4,3,2,1)"
   ]
  },
  {
   "cell_type": "code",
   "execution_count": 0,
   "metadata": {
    "colab": {},
    "colab_type": "code",
    "id": "4BwsnxmxgWTO",
    "outputId": "fe4d60be-1336-4318-b383-e6f2406c55a7"
   },
   "outputs": [
    {
     "data": {
      "text/plain": [
       "2"
      ]
     },
     "execution_count": 114,
     "metadata": {
      "tags": []
     },
     "output_type": "execute_result"
    }
   ],
   "source": [
    "tuple_2[1]"
   ]
  },
  {
   "cell_type": "code",
   "execution_count": 0,
   "metadata": {
    "colab": {},
    "colab_type": "code",
    "id": "J2lhDBfcgWTT",
    "outputId": "7ad29d60-fcb7-4a7c-c4ae-489039ce6920"
   },
   "outputs": [
    {
     "ename": "TypeError",
     "evalue": "'tuple' object does not support item assignment",
     "output_type": "error",
     "traceback": [
      "\u001b[0;31m---------------------------------------------------------------------------\u001b[0m",
      "\u001b[0;31mTypeError\u001b[0m                                 Traceback (most recent call last)",
      "\u001b[0;32m<ipython-input-115-c806a5220710>\u001b[0m in \u001b[0;36m<module>\u001b[0;34m()\u001b[0m\n\u001b[0;32m----> 1\u001b[0;31m \u001b[0mtuple_2\u001b[0m\u001b[1;33m[\u001b[0m\u001b[1;36m1\u001b[0m\u001b[1;33m]\u001b[0m\u001b[1;33m=\u001b[0m\u001b[1;36m2\u001b[0m\u001b[1;33m\u001b[0m\u001b[1;33m\u001b[0m\u001b[0m\n\u001b[0m",
      "\u001b[0;31mTypeError\u001b[0m: 'tuple' object does not support item assignment"
     ]
    }
   ],
   "source": [
    "tuple_2[1]=2"
   ]
  },
  {
   "cell_type": "code",
   "execution_count": 0,
   "metadata": {
    "colab": {},
    "colab_type": "code",
    "id": "zVS8XMuUgWTW",
    "outputId": "e1eb064c-b9e5-411d-b685-a601c3ccffbc"
   },
   "outputs": [
    {
     "data": {
      "text/plain": [
       "2"
      ]
     },
     "execution_count": 116,
     "metadata": {
      "tags": []
     },
     "output_type": "execute_result"
    }
   ],
   "source": [
    "tuple_2.count(2)"
   ]
  },
  {
   "cell_type": "code",
   "execution_count": 0,
   "metadata": {
    "colab": {},
    "colab_type": "code",
    "id": "3qt3aSLigWTZ",
    "outputId": "d24e0586-9a74-4f75-b3a7-6938d164a1a3"
   },
   "outputs": [
    {
     "data": {
      "text/plain": [
       "1"
      ]
     },
     "execution_count": 117,
     "metadata": {
      "tags": []
     },
     "output_type": "execute_result"
    }
   ],
   "source": [
    "tuple_2.index(2)"
   ]
  },
  {
   "cell_type": "markdown",
   "metadata": {
    "colab_type": "text",
    "id": "h3k3OQtkgWTe"
   },
   "source": [
    "### Set and its operations"
   ]
  },
  {
   "cell_type": "code",
   "execution_count": 0,
   "metadata": {
    "colab": {},
    "colab_type": "code",
    "collapsed": true,
    "id": "E1jtnaz4gWTe"
   },
   "outputs": [],
   "source": [
    "set_1={1,2,3,4,5,2,3,4,5}"
   ]
  },
  {
   "cell_type": "code",
   "execution_count": 0,
   "metadata": {
    "colab": {},
    "colab_type": "code",
    "id": "oZSz7HNkgWTh",
    "outputId": "5f3fffba-bddf-4158-e42a-76f894a72cbd"
   },
   "outputs": [
    {
     "name": "stdout",
     "output_type": "stream",
     "text": [
      "{1, 2, 3, 4, 5}\n"
     ]
    }
   ],
   "source": [
    "print(set_1)"
   ]
  },
  {
   "cell_type": "code",
   "execution_count": 0,
   "metadata": {
    "colab": {},
    "colab_type": "code",
    "id": "vbUpCJ-tgWTj"
   },
   "outputs": [],
   "source": [
    "set_2={1,2,5,6,7,8}"
   ]
  },
  {
   "cell_type": "code",
   "execution_count": 0,
   "metadata": {
    "colab": {},
    "colab_type": "code",
    "id": "XDUcB9icgWTl",
    "outputId": "7d9775b9-b059-457b-b470-fa8066563b9e"
   },
   "outputs": [
    {
     "name": "stdout",
     "output_type": "stream",
     "text": [
      "{1, 2, 5, 6, 7, 8}\n"
     ]
    }
   ],
   "source": [
    "print(set_2)"
   ]
  },
  {
   "cell_type": "code",
   "execution_count": 0,
   "metadata": {
    "colab": {},
    "colab_type": "code",
    "id": "if770mPugWTo",
    "outputId": "b29c5ad8-1190-4817-aad5-32fa6b09375d"
   },
   "outputs": [
    {
     "data": {
      "text/plain": [
       "{1, 2, 5}"
      ]
     },
     "execution_count": 122,
     "metadata": {
      "tags": []
     },
     "output_type": "execute_result"
    }
   ],
   "source": [
    "set_1.intersection(set_2)"
   ]
  },
  {
   "cell_type": "markdown",
   "metadata": {
    "colab_type": "text",
    "id": "1_VSYRJZgWTr"
   },
   "source": [
    "### Dictionary"
   ]
  },
  {
   "cell_type": "code",
   "execution_count": 0,
   "metadata": {
    "colab": {},
    "colab_type": "code",
    "collapsed": true,
    "id": "EO2S9HC8gWTs"
   },
   "outputs": [],
   "source": [
    "employee={ 'e-id':1111,\n",
    "            'e-name':'Robert',\n",
    "          'dob':'01-01-1990'\n",
    "    \n",
    "}"
   ]
  },
  {
   "cell_type": "code",
   "execution_count": 0,
   "metadata": {
    "colab": {},
    "colab_type": "code",
    "id": "xTCJp7kHgWTu",
    "outputId": "b6bc0663-34b9-4f48-d155-87cae449fa85"
   },
   "outputs": [
    {
     "name": "stdout",
     "output_type": "stream",
     "text": [
      "{'e-id': 1111, 'e-name': 'Robert', 'dob': '01-01-1990'}\n"
     ]
    }
   ],
   "source": [
    "print(employee)\n"
   ]
  },
  {
   "cell_type": "code",
   "execution_count": 0,
   "metadata": {
    "colab": {},
    "colab_type": "code",
    "id": "oYn_beAcgWTx",
    "outputId": "c0f01a49-92f0-4658-dd5f-c20f6c277200"
   },
   "outputs": [
    {
     "name": "stdout",
     "output_type": "stream",
     "text": [
      "e-id\n",
      "e-name\n",
      "dob\n"
     ]
    }
   ],
   "source": [
    "for x in employee:\n",
    "    print(x)"
   ]
  },
  {
   "cell_type": "code",
   "execution_count": 0,
   "metadata": {
    "colab": {},
    "colab_type": "code",
    "id": "vvsHVbSdgWTz",
    "outputId": "470af15f-3721-4abc-c2cc-df21f3543ea4"
   },
   "outputs": [
    {
     "name": "stdout",
     "output_type": "stream",
     "text": [
      "dict_keys(['e-id', 'e-name', 'dob'])\n"
     ]
    }
   ],
   "source": [
    "print(employee.keys())"
   ]
  },
  {
   "cell_type": "code",
   "execution_count": 0,
   "metadata": {
    "colab": {},
    "colab_type": "code",
    "id": "pUdyp0T6gWT1",
    "outputId": "905f4cee-95de-483e-db8b-138db841bad6"
   },
   "outputs": [
    {
     "name": "stdout",
     "output_type": "stream",
     "text": [
      "1111\n",
      "Robert\n",
      "01-01-1990\n"
     ]
    }
   ],
   "source": [
    "for x in employee:\n",
    "    print(employee[x])"
   ]
  },
  {
   "cell_type": "code",
   "execution_count": 0,
   "metadata": {
    "colab": {},
    "colab_type": "code",
    "id": "_ubUrAmpgWT4",
    "outputId": "25d0f60f-9543-4f86-8f6a-6492dc8d8e4c"
   },
   "outputs": [
    {
     "name": "stdout",
     "output_type": "stream",
     "text": [
      "1111\n",
      "Robert\n",
      "01-01-1990\n"
     ]
    }
   ],
   "source": [
    "for x in employee.values():\n",
    "    print(x)"
   ]
  },
  {
   "cell_type": "code",
   "execution_count": 0,
   "metadata": {
    "colab": {},
    "colab_type": "code",
    "id": "sSKi_dphgWT6",
    "outputId": "3bb2acea-80e8-4129-cc85-ada7be48954a"
   },
   "outputs": [
    {
     "name": "stdout",
     "output_type": "stream",
     "text": [
      "dict_values([1111, 'Robert', '01-01-1990'])\n"
     ]
    }
   ],
   "source": [
    "print(employee.values())"
   ]
  },
  {
   "cell_type": "code",
   "execution_count": 0,
   "metadata": {
    "colab": {},
    "colab_type": "code",
    "id": "PnGXSewJgWT8",
    "outputId": "62a07146-b7b9-4a31-d814-060cfcbfb2a1"
   },
   "outputs": [
    {
     "name": "stdout",
     "output_type": "stream",
     "text": [
      "e-id 1111\n",
      "e-name Robert\n",
      "dob 01-01-1990\n"
     ]
    }
   ],
   "source": [
    "for x,y in employee.items():\n",
    "    print(x,y)"
   ]
  },
  {
   "cell_type": "code",
   "execution_count": 0,
   "metadata": {
    "colab": {},
    "colab_type": "code",
    "collapsed": true,
    "id": "aM3JUwBOgWT_"
   },
   "outputs": [],
   "source": [
    "employee['blood_group']='B+'"
   ]
  },
  {
   "cell_type": "code",
   "execution_count": 0,
   "metadata": {
    "colab": {},
    "colab_type": "code",
    "id": "e9hObHU0gWUB",
    "outputId": "8b2a5bb3-bcfb-4e33-ee37-819abb14cbb0"
   },
   "outputs": [
    {
     "name": "stdout",
     "output_type": "stream",
     "text": [
      "{'e-id': 1111, 'e-name': 'Robert', 'dob': '01-01-1990', 'blood_group': 'B+'}\n"
     ]
    }
   ],
   "source": [
    "print(employee)"
   ]
  },
  {
   "cell_type": "code",
   "execution_count": 0,
   "metadata": {
    "colab": {},
    "colab_type": "code",
    "id": "_oqQ9b5zgWUC",
    "outputId": "4b34b6fd-6ca5-4c61-c055-95e0992a1197"
   },
   "outputs": [
    {
     "data": {
      "text/plain": [
       "'01-01-1990'"
      ]
     },
     "execution_count": 132,
     "metadata": {
      "tags": []
     },
     "output_type": "execute_result"
    }
   ],
   "source": [
    "employee.pop('dob')"
   ]
  },
  {
   "cell_type": "code",
   "execution_count": 0,
   "metadata": {
    "colab": {},
    "colab_type": "code",
    "id": "uKutt14fgWUF",
    "outputId": "532ad8bd-4bb2-4426-9289-2b7a78eaf0a9"
   },
   "outputs": [
    {
     "data": {
      "text/plain": [
       "{'blood_group': 'B+', 'e-id': 1111, 'e-name': 'Robert'}"
      ]
     },
     "execution_count": 133,
     "metadata": {
      "tags": []
     },
     "output_type": "execute_result"
    }
   ],
   "source": [
    "employee"
   ]
  },
  {
   "cell_type": "markdown",
   "metadata": {
    "colab_type": "text",
    "id": "rlqmfn0SgWUJ"
   },
   "source": [
    "### String"
   ]
  },
  {
   "cell_type": "code",
   "execution_count": 0,
   "metadata": {
    "colab": {},
    "colab_type": "code",
    "collapsed": true,
    "id": "ohw9sZNmgWUK"
   },
   "outputs": [],
   "source": [
    "word='HELLO'"
   ]
  },
  {
   "cell_type": "code",
   "execution_count": 0,
   "metadata": {
    "colab": {},
    "colab_type": "code",
    "id": "Cs-zwv9vgWUL",
    "outputId": "82dfbff2-f588-42d1-8599-939082fa291b"
   },
   "outputs": [
    {
     "data": {
      "text/plain": [
       "['HELLO']"
      ]
     },
     "execution_count": 13,
     "metadata": {
      "tags": []
     },
     "output_type": "execute_result"
    }
   ],
   "source": [
    "word.split('-')"
   ]
  },
  {
   "cell_type": "code",
   "execution_count": 0,
   "metadata": {
    "colab": {},
    "colab_type": "code",
    "id": "An4l9VoEgWUN",
    "outputId": "0f02501b-5f15-42a1-87e4-b2b01e57f11f"
   },
   "outputs": [
    {
     "data": {
      "text/plain": [
       "'Hi'"
      ]
     },
     "execution_count": 14,
     "metadata": {
      "tags": []
     },
     "output_type": "execute_result"
    }
   ],
   "source": [
    "word.replace(\"HELLO\",'Hi')\n"
   ]
  },
  {
   "cell_type": "code",
   "execution_count": 0,
   "metadata": {
    "colab": {},
    "colab_type": "code",
    "id": "onqT0xWegWUR",
    "outputId": "a92e3437-11b6-4a7b-9e27-3abf8c5c9c4b"
   },
   "outputs": [
    {
     "data": {
      "text/plain": [
       "'OLLEH'"
      ]
     },
     "execution_count": 20,
     "metadata": {
      "tags": []
     },
     "output_type": "execute_result"
    }
   ],
   "source": [
    "word[::-1]"
   ]
  },
  {
   "cell_type": "code",
   "execution_count": 0,
   "metadata": {
    "colab": {},
    "colab_type": "code",
    "id": "YW7htEmVgWUT",
    "outputId": "92091925-f081-4eeb-b270-60de8983a859"
   },
   "outputs": [
    {
     "data": {
      "text/plain": [
       "'HEL'"
      ]
     },
     "execution_count": 16,
     "metadata": {
      "tags": []
     },
     "output_type": "execute_result"
    }
   ],
   "source": [
    "word[:3]"
   ]
  },
  {
   "cell_type": "code",
   "execution_count": 0,
   "metadata": {
    "colab": {},
    "colab_type": "code",
    "id": "NwtyFZTxgWUe",
    "outputId": "4ea6b726-d625-4d48-d167-212722ed5289"
   },
   "outputs": [
    {
     "data": {
      "text/plain": [
       "'OLLEH'"
      ]
     },
     "execution_count": 137,
     "metadata": {
      "tags": []
     },
     "output_type": "execute_result"
    }
   ],
   "source": [
    "word[::-1]"
   ]
  },
  {
   "cell_type": "code",
   "execution_count": 0,
   "metadata": {
    "colab": {},
    "colab_type": "code",
    "id": "2Xn1TrPmgWUi",
    "outputId": "41f9de72-519b-4d27-83a5-05f95de42c93"
   },
   "outputs": [
    {
     "data": {
      "text/plain": [
       "False"
      ]
     },
     "execution_count": 138,
     "metadata": {
      "tags": []
     },
     "output_type": "execute_result"
    }
   ],
   "source": [
    "word.startswith('W')"
   ]
  },
  {
   "cell_type": "markdown",
   "metadata": {
    "colab_type": "text",
    "id": "P_Yauxt6gWUj"
   },
   "source": [
    "## If else Ternary"
   ]
  },
  {
   "cell_type": "code",
   "execution_count": 0,
   "metadata": {
    "colab": {},
    "colab_type": "code",
    "id": "qdlDKUwbgWUk",
    "outputId": "6b5d7a03-66f6-4cea-bbb4-096f9b8cfec1"
   },
   "outputs": [
    {
     "name": "stdout",
     "output_type": "stream",
     "text": [
      "very good\n"
     ]
    }
   ],
   "source": [
    "score=90\n",
    "\n",
    "if score>90:\n",
    "    print(\"excellent\")\n",
    "elif score>60 and score<=90:\n",
    "     print(\"very good\")\n",
    "else:\n",
    "    print(\"Above average\")\n",
    "    "
   ]
  },
  {
   "cell_type": "markdown",
   "metadata": {
    "colab_type": "text",
    "id": "d8aGRdZpgWUl"
   },
   "source": [
    "### Ternary"
   ]
  },
  {
   "cell_type": "code",
   "execution_count": 0,
   "metadata": {
    "colab": {},
    "colab_type": "code",
    "id": "PXD1SfftgWUo",
    "outputId": "18bb247f-b749-44f9-c389-d8bd9ddb1e89"
   },
   "outputs": [
    {
     "name": "stdout",
     "output_type": "stream",
     "text": [
      "very good\n"
     ]
    }
   ],
   "source": [
    "remarks=\"very good\" if score>60 else \"above average\"\n",
    "print(remarks)"
   ]
  },
  {
   "cell_type": "markdown",
   "metadata": {
    "colab_type": "text",
    "id": "gLTPT6y5gWUq"
   },
   "source": [
    "### Loop, continue and break "
   ]
  },
  {
   "cell_type": "code",
   "execution_count": 0,
   "metadata": {
    "colab": {},
    "colab_type": "code",
    "id": "cqr5gyGXgWUq",
    "outputId": "bef0fac7-cd55-4a8c-d087-390e628b484f"
   },
   "outputs": [
    {
     "name": "stdout",
     "output_type": "stream",
     "text": [
      "k\n",
      "i\n",
      "i\n",
      "t\n"
     ]
    }
   ],
   "source": [
    "name=\"kiit\"\n",
    "for ch in name:\n",
    "    print(ch)"
   ]
  },
  {
   "cell_type": "code",
   "execution_count": 0,
   "metadata": {
    "colab": {},
    "colab_type": "code",
    "id": "HFOuRBCfgWUr",
    "outputId": "15c1b898-f7a8-4d37-f1ca-8cc90dca68c8"
   },
   "outputs": [
    {
     "name": "stdout",
     "output_type": "stream",
     "text": [
      "1\n",
      "2\n",
      "3\n",
      "4\n"
     ]
    }
   ],
   "source": [
    "check_list=[1,2,3,4]\n",
    "for item in check_list:\n",
    "    print(item)"
   ]
  },
  {
   "cell_type": "code",
   "execution_count": 0,
   "metadata": {
    "colab": {},
    "colab_type": "code",
    "id": "H0Qy2oRLgWUt",
    "outputId": "a65458cd-33b6-49be-fafa-1929523f5bc0"
   },
   "outputs": [
    {
     "name": "stdout",
     "output_type": "stream",
     "text": [
      "0\n",
      "1\n",
      "2\n",
      "3\n",
      "4\n"
     ]
    }
   ],
   "source": [
    "num=5\n",
    "for i in range(0,num):\n",
    "    print(i)"
   ]
  },
  {
   "cell_type": "code",
   "execution_count": 0,
   "metadata": {
    "colab": {},
    "colab_type": "code",
    "id": "5_EiRDHfgWUu",
    "outputId": "d6c5752f-e9e3-498c-e2b5-7509b3f518b9"
   },
   "outputs": [
    {
     "name": "stdout",
     "output_type": "stream",
     "text": [
      "0\n",
      "1\n",
      "2\n",
      "3\n",
      "4\n"
     ]
    }
   ],
   "source": [
    "num=0\n",
    "\n",
    "while (num<5):\n",
    "    print(num)\n",
    "    num=num+1"
   ]
  },
  {
   "cell_type": "code",
   "execution_count": 0,
   "metadata": {
    "colab": {},
    "colab_type": "code",
    "id": "bhLjWVwLgWUv",
    "outputId": "cc9375b9-0b89-4f6e-ce72-ed5db1e70363"
   },
   "outputs": [
    {
     "name": "stdout",
     "output_type": "stream",
     "text": [
      "H\n",
      "g\n",
      "h\n",
      "R\n",
      "a\n",
      "d\n",
      "u\n",
      "s\n",
      "The end\n"
     ]
    }
   ],
   "source": [
    "for char in \"HighRadius\":\n",
    "    if char == \"i\":\n",
    "        continue\n",
    "        \n",
    "    print(char)\n",
    "\n",
    "print(\"The end\")"
   ]
  },
  {
   "cell_type": "code",
   "execution_count": 0,
   "metadata": {
    "colab": {},
    "colab_type": "code",
    "id": "shJ753p9gWUw",
    "outputId": "f19fa606-37d4-4dd1-ac16-356871bddd21"
   },
   "outputs": [
    {
     "name": "stdout",
     "output_type": "stream",
     "text": [
      "H\n",
      "The end\n"
     ]
    }
   ],
   "source": [
    "for char in \"HighRadius\":\n",
    "    if char == \"i\":\n",
    "        break\n",
    "        \n",
    "    print(char)\n",
    "\n",
    "print(\"The end\")"
   ]
  },
  {
   "cell_type": "markdown",
   "metadata": {
    "colab_type": "text",
    "id": "BCNEdfEVgWUy"
   },
   "source": [
    "### Functions"
   ]
  },
  {
   "cell_type": "code",
   "execution_count": 0,
   "metadata": {
    "colab": {},
    "colab_type": "code",
    "id": "28x_lMyygWUy",
    "outputId": "a38b15e2-8139-4515-fc7a-16e56726da82"
   },
   "outputs": [
    {
     "name": "stdout",
     "output_type": "stream",
     "text": [
      "5\n"
     ]
    }
   ],
   "source": [
    "def add(a,b):\n",
    "    c=a+b\n",
    "    return c\n",
    "x=add(2,3)\n",
    "print(x)"
   ]
  },
  {
   "cell_type": "code",
   "execution_count": 0,
   "metadata": {
    "colab": {},
    "colab_type": "code",
    "id": "RYtGQjsygWUz",
    "outputId": "75f1f920-fa83-4e04-941a-e049a1bc1f0f"
   },
   "outputs": [
    {
     "name": "stdout",
     "output_type": "stream",
     "text": [
      "3\n"
     ]
    }
   ],
   "source": [
    "def add(a,b):\n",
    "    c=a+b\n",
    "    print(c)\n",
    "\n",
    "add(1,2)"
   ]
  },
  {
   "cell_type": "markdown",
   "metadata": {
    "colab_type": "text",
    "id": "5tbGnP05gWU1"
   },
   "source": [
    "### Local and Global Variable"
   ]
  },
  {
   "cell_type": "code",
   "execution_count": 0,
   "metadata": {
    "colab": {},
    "colab_type": "code",
    "id": "uIyFt52TgWU2",
    "outputId": "5861c876-a348-4eef-d6a3-b358ae44bf5e"
   },
   "outputs": [
    {
     "name": "stdout",
     "output_type": "stream",
     "text": [
      "20\n"
     ]
    }
   ],
   "source": [
    "x = 10\n",
    "def foo(): \n",
    "    x=10\n",
    "    x= x * 2    \n",
    "    print(x)    \n",
    "    \n",
    "\n",
    "foo()"
   ]
  },
  {
   "cell_type": "code",
   "execution_count": 0,
   "metadata": {
    "colab": {},
    "colab_type": "code",
    "id": "9iqbM5kdgWU3",
    "outputId": "a6721039-e9c5-48ec-94bb-31c5837fc1d9"
   },
   "outputs": [
    {
     "name": "stdout",
     "output_type": "stream",
     "text": [
      "10\n"
     ]
    }
   ],
   "source": [
    "print(x)"
   ]
  },
  {
   "cell_type": "code",
   "execution_count": 0,
   "metadata": {
    "colab": {},
    "colab_type": "code",
    "id": "Lby421r9gWU4",
    "outputId": "25a6ea89-03b4-42ca-8019-52e0ac80193c"
   },
   "outputs": [
    {
     "name": "stdout",
     "output_type": "stream",
     "text": [
      "20\n",
      "1\n"
     ]
    }
   ],
   "source": [
    "x = 10\n",
    "def foo():    \n",
    "    global x\n",
    "    y = \"1\"    \n",
    "    x = x * 2    \n",
    "    print(x)    \n",
    "    print(y)\n",
    "\n",
    "foo()"
   ]
  },
  {
   "cell_type": "code",
   "execution_count": 0,
   "metadata": {
    "colab": {},
    "colab_type": "code",
    "id": "XuqJWrxugWU6",
    "outputId": "72ed8079-4016-4676-8be4-74d529259754"
   },
   "outputs": [
    {
     "name": "stdout",
     "output_type": "stream",
     "text": [
      "20\n"
     ]
    }
   ],
   "source": [
    "print(x)"
   ]
  },
  {
   "cell_type": "markdown",
   "metadata": {
    "colab_type": "text",
    "id": "mtMa5BFdgWU7"
   },
   "source": [
    "### File Handling"
   ]
  },
  {
   "cell_type": "code",
   "execution_count": 0,
   "metadata": {
    "colab": {},
    "colab_type": "code",
    "collapsed": true,
    "id": "9F3JlP4XgWU8"
   },
   "outputs": [],
   "source": [
    "test_file=open('test_new_2.txt','w')"
   ]
  },
  {
   "cell_type": "code",
   "execution_count": 0,
   "metadata": {
    "colab": {},
    "colab_type": "code",
    "id": "xwLnWipkgWU8",
    "outputId": "cbac3d0b-f1ee-4ef9-ac3f-74c9ed732170"
   },
   "outputs": [
    {
     "data": {
      "text/plain": [
       "17"
      ]
     },
     "execution_count": 67,
     "metadata": {
      "tags": []
     },
     "output_type": "execute_result"
    }
   ],
   "source": [
    "test_file.write(\"this is test new \")"
   ]
  },
  {
   "cell_type": "code",
   "execution_count": 0,
   "metadata": {
    "colab": {},
    "colab_type": "code",
    "collapsed": true,
    "id": "keyrYSGFgWVB"
   },
   "outputs": [],
   "source": [
    "test_file.close()"
   ]
  },
  {
   "cell_type": "code",
   "execution_count": 0,
   "metadata": {
    "colab": {},
    "colab_type": "code",
    "collapsed": true,
    "id": "qmrXNHskgWVC"
   },
   "outputs": [],
   "source": [
    "test_file=open('test_new_2.txt','r')"
   ]
  },
  {
   "cell_type": "code",
   "execution_count": 0,
   "metadata": {
    "colab": {},
    "colab_type": "code",
    "id": "MvJ7vL0HgWVD",
    "outputId": "efb993ce-b7d2-4a85-8592-03a907779a2d"
   },
   "outputs": [
    {
     "data": {
      "text/plain": [
       "'this is test new '"
      ]
     },
     "execution_count": 70,
     "metadata": {
      "tags": []
     },
     "output_type": "execute_result"
    }
   ],
   "source": [
    "test_file.read()"
   ]
  },
  {
   "cell_type": "code",
   "execution_count": 0,
   "metadata": {
    "colab": {},
    "colab_type": "code",
    "collapsed": true,
    "id": "GttK0V_ugWVE"
   },
   "outputs": [],
   "source": [
    "test_file.close()"
   ]
  },
  {
   "cell_type": "code",
   "execution_count": 0,
   "metadata": {
    "colab": {},
    "colab_type": "code",
    "collapsed": true,
    "id": "jbkJw5rOgWVG"
   },
   "outputs": [],
   "source": [
    "test_file=open('test_new_2.txt','a')"
   ]
  },
  {
   "cell_type": "code",
   "execution_count": 0,
   "metadata": {
    "colab": {},
    "colab_type": "code",
    "id": "9ANRjEBigWVH",
    "outputId": "fe2f5bfe-2e08-4080-a89d-6c46a34d3dd0"
   },
   "outputs": [
    {
     "data": {
      "text/plain": [
       "11"
      ]
     },
     "execution_count": 73,
     "metadata": {
      "tags": []
     },
     "output_type": "execute_result"
    }
   ],
   "source": [
    "test_file.write(\"this is new\")"
   ]
  },
  {
   "cell_type": "code",
   "execution_count": 0,
   "metadata": {
    "colab": {},
    "colab_type": "code",
    "collapsed": true,
    "id": "dYVqyf39gWVJ"
   },
   "outputs": [],
   "source": [
    "test_file.close()"
   ]
  },
  {
   "cell_type": "code",
   "execution_count": 0,
   "metadata": {
    "colab": {},
    "colab_type": "code",
    "id": "wYY1jByCgWVK"
   },
   "outputs": [],
   "source": [
    "test_file=open('test_new_2.txt','a')"
   ]
  },
  {
   "cell_type": "code",
   "execution_count": 0,
   "metadata": {
    "colab": {},
    "colab_type": "code",
    "id": "80NKPsIlgWVL",
    "outputId": "a78a7b68-4d0d-4b9e-acfb-7eac7157ab44"
   },
   "outputs": [
    {
     "ename": "UnsupportedOperation",
     "evalue": "not readable",
     "output_type": "error",
     "traceback": [
      "\u001b[0;31m---------------------------------------------------------------------------\u001b[0m",
      "\u001b[0;31mUnsupportedOperation\u001b[0m                      Traceback (most recent call last)",
      "\u001b[0;32m<ipython-input-27-492ed1b35283>\u001b[0m in \u001b[0;36m<module>\u001b[0;34m()\u001b[0m\n\u001b[0;32m----> 1\u001b[0;31m \u001b[0mprint\u001b[0m\u001b[1;33m(\u001b[0m\u001b[0mtest_file\u001b[0m\u001b[1;33m.\u001b[0m\u001b[0mread\u001b[0m\u001b[1;33m(\u001b[0m\u001b[1;33m)\u001b[0m\u001b[1;33m)\u001b[0m\u001b[1;33m\u001b[0m\u001b[1;33m\u001b[0m\u001b[0m\n\u001b[0m\u001b[1;32m      2\u001b[0m \u001b[0mtest_file\u001b[0m\u001b[1;33m.\u001b[0m\u001b[0mclose\u001b[0m\u001b[1;33m(\u001b[0m\u001b[1;33m)\u001b[0m\u001b[1;33m\u001b[0m\u001b[1;33m\u001b[0m\u001b[0m\n",
      "\u001b[0;31mUnsupportedOperation\u001b[0m: not readable"
     ]
    }
   ],
   "source": [
    "print(test_file.read())\n",
    "test_file.close()"
   ]
  },
  {
   "cell_type": "markdown",
   "metadata": {
    "colab_type": "text",
    "id": "0T-e2Oo6gWVN"
   },
   "source": [
    "### Exception Handling"
   ]
  },
  {
   "cell_type": "code",
   "execution_count": 0,
   "metadata": {
    "colab": {},
    "colab_type": "code",
    "id": "hyeacmhSgWVO",
    "outputId": "047a0263-769b-4d36-cfd3-6c24a0a7a9cb"
   },
   "outputs": [
    {
     "name": "stdout",
     "output_type": "stream",
     "text": [
      "division by zero\n"
     ]
    }
   ],
   "source": [
    "a=1\n",
    "b=0\n",
    "try:\n",
    "    c=a/b\n",
    "except:\n",
    "    print(\"division by zero\")"
   ]
  },
  {
   "cell_type": "code",
   "execution_count": 0,
   "metadata": {
    "colab": {},
    "colab_type": "code",
    "id": "GceRwi8tgWVP",
    "outputId": "6f439d72-0f18-4e52-a9df-5f37a2300b3c"
   },
   "outputs": [
    {
     "name": "stdout",
     "output_type": "stream",
     "text": [
      "division by zero\n"
     ]
    }
   ],
   "source": [
    "try:\n",
    "    if b==0:\n",
    "        raise ValueError(\"division by zero\")\n",
    "except ValueError as ve:\n",
    "    print(ve)"
   ]
  },
  {
   "cell_type": "markdown",
   "metadata": {
    "colab_type": "text",
    "collapsed": true,
    "id": "GiHvQsrhgWVS"
   },
   "source": [
    "### How to take input"
   ]
  },
  {
   "cell_type": "code",
   "execution_count": 0,
   "metadata": {
    "colab": {},
    "colab_type": "code",
    "id": "ot59pwnOgWVS"
   },
   "outputs": [],
   "source": [
    "x=int(input(\"give\"))"
   ]
  },
  {
   "cell_type": "code",
   "execution_count": 0,
   "metadata": {
    "colab": {},
    "colab_type": "code",
    "id": "Aonmi6XlgWVT"
   },
   "outputs": [],
   "source": []
  },
  {
   "cell_type": "markdown",
   "metadata": {
    "colab_type": "text",
    "id": "UooG6U41soQH"
   },
   "source": [
    "# Lets go forward with Python"
   ]
  },
  {
   "cell_type": "markdown",
   "metadata": {
    "colab_type": "text",
    "id": "BSpqhSwhgeoE"
   },
   "source": [
    "### How to make  a class\n"
   ]
  },
  {
   "cell_type": "code",
   "execution_count": 0,
   "metadata": {
    "colab": {},
    "colab_type": "code",
    "id": "-tUN0lAVg5WH"
   },
   "outputs": [],
   "source": [
    "class Car():\n",
    "  \n",
    "  # __init__() method acts as a constructor.\n",
    "  # self is like the \"this\" keyword in java\n",
    "  # \"__\" before a variable name means that it is a private variable\n",
    "  def __init__(self,name,brand,color,transmissionType=\"Manual\"):\n",
    "    self.name = name\n",
    "    self.__brand = brand\n",
    "    self.__color = color\n",
    "    self.__transmissionType = transmissionType\n",
    "    self.__gears = self.__checkGears()\n",
    "    self.__speed = 0.0\n",
    "    self.__distance = 0.0\n",
    "    self.__year = 0\n",
    "  \n",
    "  # class method\n",
    "  def calculateTime(self):\n",
    "    try:\n",
    "      return self.__distance/self.__speed\n",
    "    except:\n",
    "      print(\"0\")\n",
    "  \n",
    "  # private class methods have '__' before the class name\n",
    "  def __checkGears(self):\n",
    "    if self.__transmissionType == \"Manual\":\n",
    "      return 6\n",
    "    else:\n",
    "      return 3\n",
    "  \n",
    "  # this is how you define a static method\n",
    "  @staticmethod\n",
    "  def makeGenericCar():\n",
    "      car = Car(\"a\",\"b\",\"c\")\n",
    "      car.setDistance(10)\n",
    "      car.setSpeed(2)\n",
    "      return car\n",
    "    \n",
    "  \n",
    "  def setSpeed(self,speed):\n",
    "    self.__speed = speed\n",
    "    \n",
    "    \n",
    "  def setDistance(self,distance):\n",
    "    self.__distance = distance\n",
    "    \n",
    "  \n",
    "  # TODO: Make getter and setter methods for all other private variables"
   ]
  },
  {
   "cell_type": "code",
   "execution_count": 0,
   "metadata": {
    "colab": {},
    "colab_type": "code",
    "id": "O2Mj-JKmpCYd"
   },
   "outputs": [],
   "source": [
    "car = Car(\"Aventador\",\"Lamborgini\",\"Matte Black\",transmissionType=\"Auto\")"
   ]
  },
  {
   "cell_type": "code",
   "execution_count": 11,
   "metadata": {
    "colab": {
     "base_uri": "https://localhost:8080/",
     "height": 34
    },
    "colab_type": "code",
    "executionInfo": {
     "elapsed": 648,
     "status": "ok",
     "timestamp": 1562439839004,
     "user": {
      "displayName": "Mohit Singh Badwal",
      "photoUrl": "https://lh5.googleusercontent.com/-hCYkvr0A3A4/AAAAAAAAAAI/AAAAAAAAAlc/Mu7dc_3k7xM/s64/photo.jpg",
      "userId": "13395107483103682568"
     },
     "user_tz": -330
    },
    "id": "yf3rtDpipgW0",
    "outputId": "74d5425b-a78c-427f-9769-16c9240a60e7"
   },
   "outputs": [
    {
     "data": {
      "text/plain": [
       "10.0"
      ]
     },
     "execution_count": 11,
     "metadata": {
      "tags": []
     },
     "output_type": "execute_result"
    }
   ],
   "source": [
    "car.setDistance(1000)\n",
    "car.setSpeed(100)\n",
    "car.calculateTime()"
   ]
  },
  {
   "cell_type": "markdown",
   "metadata": {
    "colab_type": "text",
    "id": "vwgGPjCfsAOZ"
   },
   "source": [
    "### List Comprehension"
   ]
  },
  {
   "cell_type": "code",
   "execution_count": 27,
   "metadata": {
    "colab": {
     "base_uri": "https://localhost:8080/",
     "height": 34
    },
    "colab_type": "code",
    "executionInfo": {
     "elapsed": 1109,
     "status": "ok",
     "timestamp": 1562492774193,
     "user": {
      "displayName": "Mohit Singh Badwal",
      "photoUrl": "https://lh5.googleusercontent.com/-hCYkvr0A3A4/AAAAAAAAAAI/AAAAAAAAAlc/Mu7dc_3k7xM/s64/photo.jpg",
      "userId": "13395107483103682568"
     },
     "user_tz": -330
    },
    "id": "qCzwk0zNpj8F",
    "outputId": "9bdc9c14-59d6-470e-8f54-479bd539e5b4"
   },
   "outputs": [
    {
     "data": {
      "text/plain": [
       "[2, 4, 6, 8, 10]"
      ]
     },
     "execution_count": 27,
     "metadata": {
      "tags": []
     },
     "output_type": "execute_result"
    }
   ],
   "source": [
    "# List comprehensions are more compact and faster than an explicit \"for\" loop for building a list\n",
    "numbers = [1,2,3,4,5,6,7,8,9,10]\n",
    "# list comprehension to get even numbers from numbers list\n",
    "even = [x for x in numbers if x%2 == 0]\n",
    "odd = [x for x in numbers if x%2 != 0]\n",
    "\n",
    "even"
   ]
  },
  {
   "cell_type": "markdown",
   "metadata": {
    "colab_type": "text",
    "id": "MTC-_ZDJ3crT"
   },
   "source": [
    "### Dictionary Comprehension"
   ]
  },
  {
   "cell_type": "code",
   "execution_count": 28,
   "metadata": {
    "colab": {
     "base_uri": "https://localhost:8080/",
     "height": 34
    },
    "colab_type": "code",
    "executionInfo": {
     "elapsed": 1079,
     "status": "ok",
     "timestamp": 1562493121410,
     "user": {
      "displayName": "Mohit Singh Badwal",
      "photoUrl": "https://lh5.googleusercontent.com/-hCYkvr0A3A4/AAAAAAAAAAI/AAAAAAAAAlc/Mu7dc_3k7xM/s64/photo.jpg",
      "userId": "13395107483103682568"
     },
     "user_tz": -330
    },
    "id": "QH5-g_vQq2VK",
    "outputId": "50e6ffb6-8fd3-4e43-c02f-5a5ef82e5b0b"
   },
   "outputs": [
    {
     "data": {
      "text/plain": [
       "{'b': 2, 'd': 4, 'f': 6, 'h': 8, 'j': 10}"
      ]
     },
     "execution_count": 28,
     "metadata": {
      "tags": []
     },
     "output_type": "execute_result"
    }
   ],
   "source": [
    "# Dictionary comprehensions are more compact and faster than an explicit \"for\" loop for building a dictionary\n",
    "numbers = {\"a\":1,\"b\":2,\"c\":3,\"d\":4,\"e\":5,\"f\":6,\"g\":7,\"h\":8,\"i\":9,\"j\":10}\n",
    "# dictionary comprehension to get even numbers from numbers dictionaries into a new dictionary\n",
    "even = {key:value for key,value in numbers.items() if value%2 == 0}\n",
    "odd = {key:value for key,value in numbers.items() if value%2 != 0}\n",
    "even"
   ]
  },
  {
   "cell_type": "markdown",
   "metadata": {
    "colab_type": "text",
    "id": "M3b90qkB47ow"
   },
   "source": [
    "### Enumerate"
   ]
  },
  {
   "cell_type": "code",
   "execution_count": 9,
   "metadata": {
    "colab": {
     "base_uri": "https://localhost:8080/",
     "height": 170
    },
    "colab_type": "code",
    "executionInfo": {
     "elapsed": 1196,
     "status": "ok",
     "timestamp": 1562477739400,
     "user": {
      "displayName": "Mohit Singh Badwal",
      "photoUrl": "https://lh5.googleusercontent.com/-hCYkvr0A3A4/AAAAAAAAAAI/AAAAAAAAAlc/Mu7dc_3k7xM/s64/photo.jpg",
      "userId": "13395107483103682568"
     },
     "user_tz": -330
    },
    "id": "33keF1nW4c7u",
    "outputId": "52f8ad00-e23c-43f9-bc7b-f90de95a4963"
   },
   "outputs": [
    {
     "name": "stdout",
     "output_type": "stream",
     "text": [
      "0 a\n",
      "1 b\n",
      "2 c\n",
      "3 d\n",
      "4 e\n",
      "5 f\n",
      "6 g\n",
      "7 h\n",
      "8 i\n"
     ]
    }
   ],
   "source": [
    "# enumerate is used in for loop to introduce an index variable while iterating over an iterable object\n",
    "alphabets = [\"a\",\"b\",\"c\",\"d\",\"e\",\"f\",\"g\",\"h\",\"i\"]\n",
    "\n",
    "for i,alphabet in enumerate(alphabets):\n",
    "  print(i,alphabet)"
   ]
  },
  {
   "cell_type": "markdown",
   "metadata": {
    "colab_type": "text",
    "id": "EX58nhz08MBe"
   },
   "source": [
    "### Zip"
   ]
  },
  {
   "cell_type": "code",
   "execution_count": 21,
   "metadata": {
    "colab": {
     "base_uri": "https://localhost:8080/",
     "height": 170
    },
    "colab_type": "code",
    "executionInfo": {
     "elapsed": 1122,
     "status": "ok",
     "timestamp": 1562478853004,
     "user": {
      "displayName": "Mohit Singh Badwal",
      "photoUrl": "https://lh5.googleusercontent.com/-hCYkvr0A3A4/AAAAAAAAAAI/AAAAAAAAAlc/Mu7dc_3k7xM/s64/photo.jpg",
      "userId": "13395107483103682568"
     },
     "user_tz": -330
    },
    "id": "XR3nk9hq7ahj",
    "outputId": "192e48c4-0e73-4936-8178-7f5ee8792048"
   },
   "outputs": [
    {
     "name": "stdout",
     "output_type": "stream",
     "text": [
      "a 1\n",
      "b 2\n",
      "c 3\n",
      "d 4\n",
      "e 5\n",
      "f 6\n",
      "g 7\n",
      "h 8\n",
      "i 9\n"
     ]
    }
   ],
   "source": [
    "# The zip() function take iterables (can be zero or more), makes iterator that aggregates elements based on the iterables passed, and returns an iterator of tuples.\n",
    "alphabets = [\"a\",\"b\",\"c\",\"d\",\"e\",\"f\",\"g\",\"h\",\"i\"]\n",
    "numbers = [1,2,3,4,5,6,7,8,9,10]\n",
    "for alphabet,number in zip(alphabets,numbers):\n",
    "  print(alphabet,number)"
   ]
  },
  {
   "cell_type": "markdown",
   "metadata": {
    "colab_type": "text",
    "id": "xcr0HQm7n53C"
   },
   "source": [
    "### Map"
   ]
  },
  {
   "cell_type": "code",
   "execution_count": 20,
   "metadata": {
    "colab": {
     "base_uri": "https://localhost:8080/",
     "height": 187
    },
    "colab_type": "code",
    "executionInfo": {
     "elapsed": 1235,
     "status": "ok",
     "timestamp": 1562478801188,
     "user": {
      "displayName": "Mohit Singh Badwal",
      "photoUrl": "https://lh5.googleusercontent.com/-hCYkvr0A3A4/AAAAAAAAAAI/AAAAAAAAAlc/Mu7dc_3k7xM/s64/photo.jpg",
      "userId": "13395107483103682568"
     },
     "user_tz": -330
    },
    "id": "v47pP73q8BXB",
    "outputId": "cdbad338-6817-40eb-f907-ffa59ac3d8df"
   },
   "outputs": [
    {
     "name": "stdout",
     "output_type": "stream",
     "text": [
      "1\n",
      "4\n",
      "9\n",
      "16\n",
      "25\n",
      "36\n",
      "49\n",
      "64\n",
      "81\n",
      "100\n"
     ]
    }
   ],
   "source": [
    "# map() function returns a list of the results after applying the given function to each item of a given iterable (list, tuple etc.)\n",
    "def square(n):\n",
    "  return n**2\n",
    "numbers = [1,2,3,4,5,6,7,8,9,10]\n",
    "for alphabet in map(square,numbers):\n",
    "  print(alphabet)"
   ]
  },
  {
   "cell_type": "markdown",
   "metadata": {
    "colab_type": "text",
    "id": "-tO6EcppoEhp"
   },
   "source": [
    "### Lambda"
   ]
  },
  {
   "cell_type": "code",
   "execution_count": 22,
   "metadata": {
    "colab": {
     "base_uri": "https://localhost:8080/",
     "height": 34
    },
    "colab_type": "code",
    "executionInfo": {
     "elapsed": 1329,
     "status": "ok",
     "timestamp": 1562489437447,
     "user": {
      "displayName": "Mohit Singh Badwal",
      "photoUrl": "https://lh5.googleusercontent.com/-hCYkvr0A3A4/AAAAAAAAAAI/AAAAAAAAAlc/Mu7dc_3k7xM/s64/photo.jpg",
      "userId": "13395107483103682568"
     },
     "user_tz": -330
    },
    "id": "zM2flySW-JYh",
    "outputId": "6f0c3fd5-5878-4c3b-b871-48fc5de5ac8a"
   },
   "outputs": [
    {
     "name": "stdout",
     "output_type": "stream",
     "text": [
      "4\n"
     ]
    }
   ],
   "source": [
    "# Python lambda (Anonymous Functions) , it can evaluate only single expressions\n",
    "square = lambda x: x**2\n",
    "print(square(2))"
   ]
  },
  {
   "cell_type": "code",
   "execution_count": 0,
   "metadata": {
    "colab": {},
    "colab_type": "code",
    "id": "jIcD5IIH_A-j"
   },
   "outputs": [],
   "source": []
  }
 ],
 "metadata": {
  "colab": {
   "name": "Python Tutorial.ipynb",
   "provenance": [],
   "version": "0.3.2"
  },
  "kernelspec": {
   "display_name": "Python 3",
   "language": "python",
   "name": "python3"
  },
  "language_info": {
   "codemirror_mode": {
    "name": "ipython",
    "version": 3
   },
   "file_extension": ".py",
   "mimetype": "text/x-python",
   "name": "python",
   "nbconvert_exporter": "python",
   "pygments_lexer": "ipython3",
   "version": "3.7.4"
  }
 },
 "nbformat": 4,
 "nbformat_minor": 1
}
