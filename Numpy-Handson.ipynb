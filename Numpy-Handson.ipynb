{
 "cells": [
  {
   "cell_type": "markdown",
   "metadata": {
    "colab_type": "text",
    "id": "T2pF01ETtfP2"
   },
   "source": [
    "##### NumPy is an open source library available in Python that aids in mathematical, scientific, engineering, and data science programming. NumPy is an incredible library to perform mathematical and statistical operations. It works perfectly well for multi-dimensional arrays and matrices multiplication "
   ]
  },
  {
   "cell_type": "code",
   "execution_count": 0,
   "metadata": {
    "colab": {},
    "colab_type": "code",
    "id": "Zkku413itfQV"
   },
   "outputs": [],
   "source": [
    "#run cmd commands in jupyter using ! \n",
    "!pip install numpy"
   ]
  },
  {
   "cell_type": "markdown",
   "metadata": {
    "colab_type": "text",
    "id": "znZKV0POtfQq"
   },
   "source": [
    "### Other ways of installing through CMD\n",
    "##### python -m pip install numpy\n",
    "##### pip install numpy "
   ]
  },
  {
   "cell_type": "code",
   "execution_count": 1,
   "metadata": {
    "colab": {},
    "colab_type": "code",
    "id": "avxr76LKtfQw"
   },
   "outputs": [],
   "source": [
    "import numpy as np"
   ]
  },
  {
   "cell_type": "markdown",
   "metadata": {
    "colab_type": "text",
    "id": "VxumTibJtfRT"
   },
   "source": [
    "#### Creating numpy array using list "
   ]
  },
  {
   "cell_type": "code",
   "execution_count": 2,
   "metadata": {
    "colab": {},
    "colab_type": "code",
    "id": "gW8HLPuKtfRY"
   },
   "outputs": [],
   "source": [
    "a = [1, 2, 3, 4, 5, 6]\n",
    "npar = np.array(a)"
   ]
  },
  {
   "cell_type": "code",
   "execution_count": 3,
   "metadata": {
    "colab": {},
    "colab_type": "code",
    "id": "9dI_euJDtfRm",
    "outputId": "4066a170-2f9f-458e-d164-42c0e3a17c51"
   },
   "outputs": [
    {
     "data": {
      "text/plain": [
       "array([1, 2, 3, 4, 5, 6])"
      ]
     },
     "execution_count": 3,
     "metadata": {},
     "output_type": "execute_result"
    }
   ],
   "source": [
    "npar"
   ]
  },
  {
   "cell_type": "code",
   "execution_count": 4,
   "metadata": {
    "colab": {},
    "colab_type": "code",
    "id": "70g7i6_VtfSa",
    "outputId": "ccfa6cfe-65b5-4ff2-829f-a52d8c980fee"
   },
   "outputs": [
    {
     "data": {
      "text/plain": [
       "array([1, 2, 3, 4])"
      ]
     },
     "execution_count": 4,
     "metadata": {},
     "output_type": "execute_result"
    }
   ],
   "source": [
    "nparr = np.array([1, 2, 3, 4])\n",
    "nparr"
   ]
  },
  {
   "cell_type": "code",
   "execution_count": 5,
   "metadata": {
    "colab": {},
    "colab_type": "code",
    "id": "EsVGGbWJtfSt",
    "outputId": "db5be456-80bf-4a76-9d09-f074de058e7d"
   },
   "outputs": [
    {
     "data": {
      "text/plain": [
       "array([[1, 2, 3],\n",
       "       [4, 5, 6],\n",
       "       [6, 8, 9]])"
      ]
     },
     "execution_count": 5,
     "metadata": {},
     "output_type": "execute_result"
    }
   ],
   "source": [
    "npa1 = np.array([[1,2,3], [4,5,6], [6,8,9]])\n",
    "npa1"
   ]
  },
  {
   "cell_type": "markdown",
   "metadata": {
    "colab_type": "text",
    "id": "ldXMYIgltfTF"
   },
   "source": [
    "#### Creating array using np.random "
   ]
  },
  {
   "cell_type": "markdown",
   "metadata": {
    "colab_type": "text",
    "id": "_SNw7ubmtfTP"
   },
   "source": [
    "##### Return random integers from low (inclusive) to high (exclusive).Return random integers from the “discrete uniform” distribution of the specified dtype in the “half-open” interval [low, high). "
   ]
  },
  {
   "cell_type": "code",
   "execution_count": 0,
   "metadata": {
    "colab": {},
    "colab_type": "code",
    "id": "j1krc-y_tfTW"
   },
   "outputs": [],
   "source": [
    "a = np.random.randint(10, size=6)  \n",
    "b = np.random.randint(10, size=(2, 3))  \n",
    "c = np.random.randint(10, size=(2, 3, 4))  "
   ]
  },
  {
   "cell_type": "code",
   "execution_count": 0,
   "metadata": {
    "colab": {},
    "colab_type": "code",
    "id": "ChcOQ98utfTj",
    "outputId": "f5fda8e5-d6b7-44a4-99a6-4c865acf6fae"
   },
   "outputs": [
    {
     "data": {
      "text/plain": [
       "array([2, 2, 1, 4, 2, 0])"
      ]
     },
     "execution_count": 16,
     "metadata": {
      "tags": []
     },
     "output_type": "execute_result"
    }
   ],
   "source": [
    "a"
   ]
  },
  {
   "cell_type": "code",
   "execution_count": 0,
   "metadata": {
    "colab": {},
    "colab_type": "code",
    "id": "B2Uu3tVctfT9",
    "outputId": "cf6f6bdd-264d-4985-8f29-e3938bd7c877"
   },
   "outputs": [
    {
     "data": {
      "text/plain": [
       "array([[7, 0, 9],\n",
       "       [0, 0, 5]])"
      ]
     },
     "execution_count": 17,
     "metadata": {
      "tags": []
     },
     "output_type": "execute_result"
    }
   ],
   "source": [
    "b"
   ]
  },
  {
   "cell_type": "code",
   "execution_count": 0,
   "metadata": {
    "colab": {},
    "colab_type": "code",
    "id": "m_YHcPQ0tfUa",
    "outputId": "815f1a92-c125-4c74-d650-785323ea7d68"
   },
   "outputs": [
    {
     "data": {
      "text/plain": [
       "array([[[4, 8, 6, 0],\n",
       "        [0, 5, 6, 1],\n",
       "        [1, 6, 6, 9]],\n",
       "\n",
       "       [[8, 9, 2, 1],\n",
       "        [4, 8, 5, 5],\n",
       "        [5, 6, 3, 0]]])"
      ]
     },
     "execution_count": 18,
     "metadata": {
      "tags": []
     },
     "output_type": "execute_result"
    }
   ],
   "source": [
    "c"
   ]
  },
  {
   "cell_type": "markdown",
   "metadata": {
    "colab_type": "text",
    "id": "7_JWuHmYtfUp"
   },
   "source": [
    "#### Creating using np.arrange "
   ]
  },
  {
   "cell_type": "markdown",
   "metadata": {
    "colab_type": "text",
    "id": "J0MKJ5IbtfUu"
   },
   "source": [
    "##### Return evenly spaced values within a given interval.Values are generated within the half-open interval [start, stop)"
   ]
  },
  {
   "cell_type": "code",
   "execution_count": 6,
   "metadata": {
    "colab": {},
    "colab_type": "code",
    "id": "L8XjLtXbtfU2"
   },
   "outputs": [],
   "source": [
    "# Values from 0 to 4(exclusive) with default start as 0\n",
    "a1 = np.arange(4)\n",
    "\n",
    "# Values from 0 to 6.0(exclusive) with default start as 0.0\n",
    "a2 = np.arange(6.0)\n",
    "\n",
    "# Values between 6 and 15 with defualt step of 1 \n",
    "a3 = np.arange(6,15)\n",
    "\n",
    "# Values between 3 and 10(exclusive), with step 2\n",
    "a4 = np.arange(3,10,2)"
   ]
  },
  {
   "cell_type": "code",
   "execution_count": 7,
   "metadata": {
    "colab": {},
    "colab_type": "code",
    "id": "a7WbWaGUtfVa",
    "outputId": "019c3112-ebbd-4cf4-bf75-91dfce020c02"
   },
   "outputs": [
    {
     "data": {
      "text/plain": [
       "array([0, 1, 2, 3])"
      ]
     },
     "execution_count": 7,
     "metadata": {},
     "output_type": "execute_result"
    }
   ],
   "source": [
    "a1"
   ]
  },
  {
   "cell_type": "code",
   "execution_count": 0,
   "metadata": {
    "colab": {},
    "colab_type": "code",
    "id": "z5l0ufHttfVm",
    "outputId": "6b290520-0919-4f89-e28e-ee54b6193dae"
   },
   "outputs": [
    {
     "data": {
      "text/plain": [
       "array([0., 1., 2., 3., 4., 5.])"
      ]
     },
     "execution_count": 114,
     "metadata": {
      "tags": []
     },
     "output_type": "execute_result"
    }
   ],
   "source": [
    "a2"
   ]
  },
  {
   "cell_type": "code",
   "execution_count": 0,
   "metadata": {
    "colab": {},
    "colab_type": "code",
    "id": "f7vGbDZztfV2",
    "outputId": "e12ba479-f69a-4175-d3d1-7fcea269b809"
   },
   "outputs": [
    {
     "data": {
      "text/plain": [
       "array([ 6,  7,  8,  9, 10, 11, 12, 13, 14])"
      ]
     },
     "execution_count": 115,
     "metadata": {
      "tags": []
     },
     "output_type": "execute_result"
    }
   ],
   "source": [
    "a3"
   ]
  },
  {
   "cell_type": "code",
   "execution_count": 8,
   "metadata": {
    "colab": {},
    "colab_type": "code",
    "id": "BTm7F6xctfWK",
    "outputId": "ba58d920-58d9-4225-aaec-ff73c81d39be"
   },
   "outputs": [
    {
     "data": {
      "text/plain": [
       "array([3, 5, 7, 9])"
      ]
     },
     "execution_count": 8,
     "metadata": {},
     "output_type": "execute_result"
    }
   ],
   "source": [
    "a4"
   ]
  },
  {
   "cell_type": "markdown",
   "metadata": {
    "colab_type": "text",
    "id": "as7rwX-6tfWV"
   },
   "source": [
    "#### Minimum dimension"
   ]
  },
  {
   "cell_type": "code",
   "execution_count": 0,
   "metadata": {
    "colab": {},
    "colab_type": "code",
    "id": "1xYcjZVTtfWZ",
    "outputId": "d3dbe069-f857-4c85-ff0b-2fae7d342056"
   },
   "outputs": [
    {
     "data": {
      "text/plain": [
       "array([[[1, 2, 3, 4, 5, 6, 7, 8, 9]]])"
      ]
     },
     "execution_count": 29,
     "metadata": {
      "tags": []
     },
     "output_type": "execute_result"
    }
   ],
   "source": [
    "np.array([1, 2, 3, 4, 5, 6, 7, 8, 9], ndmin=3)"
   ]
  },
  {
   "cell_type": "code",
   "execution_count": 0,
   "metadata": {
    "colab": {},
    "colab_type": "code",
    "id": "7IiYpZoWtfWl",
    "outputId": "60626972-90a0-47f5-c826-03a8388ce791"
   },
   "outputs": [
    {
     "data": {
      "text/plain": [
       "array([[1, 2, 3, 4, 5, 6]])"
      ]
     },
     "execution_count": 61,
     "metadata": {
      "tags": []
     },
     "output_type": "execute_result"
    }
   ],
   "source": [
    "np.array([1, 2, 3, 4, 5, 6], ndmin=2)"
   ]
  },
  {
   "cell_type": "markdown",
   "metadata": {
    "colab_type": "text",
    "id": "8Vcnb3httfWv"
   },
   "source": [
    "#### Data type of array "
   ]
  },
  {
   "cell_type": "code",
   "execution_count": 10,
   "metadata": {
    "colab": {},
    "colab_type": "code",
    "id": "yXF9PS1ItfWx",
    "outputId": "c5e671be-9660-485e-80ba-1e8bb301a30c"
   },
   "outputs": [
    {
     "data": {
      "text/plain": [
       "array([5.7, 8.9, 4. ])"
      ]
     },
     "execution_count": 10,
     "metadata": {},
     "output_type": "execute_result"
    }
   ],
   "source": [
    "f = np.array([5.7, 8.9, 4])\n",
    "f"
   ]
  },
  {
   "cell_type": "code",
   "execution_count": 12,
   "metadata": {
    "colab": {},
    "colab_type": "code",
    "id": "Ajy-sD8ptfW6",
    "outputId": "0fbd5727-3b7c-4ece-d40e-7e9299b1d677"
   },
   "outputs": [
    {
     "data": {
      "text/plain": [
       "array([5, 8, 4])"
      ]
     },
     "execution_count": 12,
     "metadata": {},
     "output_type": "execute_result"
    }
   ],
   "source": [
    "np.array(f, dtype=np.int, copy=True, order='k', subok=False, ndmin=0)"
   ]
  },
  {
   "cell_type": "code",
   "execution_count": 0,
   "metadata": {
    "colab": {},
    "colab_type": "code",
    "id": "cXR7u-0ztfXE",
    "outputId": "96444292-351c-41d8-f3e8-cdafcf4c0a4e"
   },
   "outputs": [
    {
     "data": {
      "text/plain": [
       "array([5.7+0.j, 8.9+0.j, 4. +0.j])"
      ]
     },
     "execution_count": 43,
     "metadata": {
      "tags": []
     },
     "output_type": "execute_result"
    }
   ],
   "source": [
    "np.array(f, dtype = complex)"
   ]
  },
  {
   "cell_type": "code",
   "execution_count": 0,
   "metadata": {
    "colab": {},
    "colab_type": "code",
    "id": "fJ6AbklgtfXO"
   },
   "outputs": [],
   "source": [
    "c = np.array([[1,2,3], [4,5,6,]], dtype = complex)"
   ]
  },
  {
   "cell_type": "code",
   "execution_count": 0,
   "metadata": {
    "colab": {},
    "colab_type": "code",
    "id": "ITpkjR9ItfXU",
    "outputId": "79891bda-18ee-4638-b3c8-eed086aaec71"
   },
   "outputs": [
    {
     "data": {
      "text/plain": [
       "(2, 3)"
      ]
     },
     "execution_count": 47,
     "metadata": {
      "tags": []
     },
     "output_type": "execute_result"
    }
   ],
   "source": [
    "c.shape"
   ]
  },
  {
   "cell_type": "code",
   "execution_count": 0,
   "metadata": {
    "colab": {},
    "colab_type": "code",
    "id": "gLPNVGFJtfXc",
    "outputId": "8f3f3393-7dbd-4794-ca00-65b2f0ee9b4b"
   },
   "outputs": [
    {
     "data": {
      "text/plain": [
       "dtype('complex128')"
      ]
     },
     "execution_count": 48,
     "metadata": {
      "tags": []
     },
     "output_type": "execute_result"
    }
   ],
   "source": [
    "c.dtype"
   ]
  },
  {
   "cell_type": "markdown",
   "metadata": {
    "colab_type": "text",
    "id": "yN97g5PHtfXq"
   },
   "source": [
    "#### Reshaping array "
   ]
  },
  {
   "cell_type": "code",
   "execution_count": 0,
   "metadata": {
    "colab": {},
    "colab_type": "code",
    "id": "-3Js6KGCtfXs",
    "outputId": "b0846c1d-f4c4-4684-aaf6-57c221cfe652"
   },
   "outputs": [
    {
     "data": {
      "text/plain": [
       "(3, 2)"
      ]
     },
     "execution_count": 62,
     "metadata": {
      "tags": []
     },
     "output_type": "execute_result"
    }
   ],
   "source": [
    "c.shape"
   ]
  },
  {
   "cell_type": "code",
   "execution_count": 0,
   "metadata": {
    "colab": {},
    "colab_type": "code",
    "collapsed": true,
    "id": "5CJZOcG-tfX2"
   },
   "outputs": [],
   "source": [
    "c.shape = (2,3)"
   ]
  },
  {
   "cell_type": "code",
   "execution_count": 0,
   "metadata": {
    "colab": {},
    "colab_type": "code",
    "id": "vQ96hkKitfYB",
    "outputId": "af1603bf-f328-4128-d222-f6438015aa23"
   },
   "outputs": [
    {
     "data": {
      "text/plain": [
       "array([[1.+0.j, 2.+0.j, 3.+0.j],\n",
       "       [4.+0.j, 5.+0.j, 6.+0.j]])"
      ]
     },
     "execution_count": 64,
     "metadata": {
      "tags": []
     },
     "output_type": "execute_result"
    }
   ],
   "source": [
    "c"
   ]
  },
  {
   "cell_type": "code",
   "execution_count": 0,
   "metadata": {
    "colab": {},
    "colab_type": "code",
    "id": "0R2m_QTitfYM",
    "outputId": "598afca1-4726-4c2e-8b4b-1d5ce1bd548b"
   },
   "outputs": [
    {
     "name": "stdout",
     "output_type": "stream",
     "text": [
      "1\n",
      "(9,)\n",
      "[ 3  5  7  9 11 13 15 17 19]\n"
     ]
    }
   ],
   "source": [
    "g = np.arange(3,20,2)\n",
    "print(g.ndim)\n",
    "print(g.shape)\n",
    "print(g)"
   ]
  },
  {
   "cell_type": "code",
   "execution_count": 0,
   "metadata": {
    "colab": {},
    "colab_type": "code",
    "id": "0pzduZIdtfYT",
    "outputId": "ba246ba1-e026-46f1-de47-ee9ec93740bb"
   },
   "outputs": [
    {
     "name": "stdout",
     "output_type": "stream",
     "text": [
      "2\n",
      "(3, 3)\n",
      "[[ 3  5  7]\n",
      " [ 9 11 13]\n",
      " [15 17 19]]\n"
     ]
    }
   ],
   "source": [
    "h = g.reshape(3,3)\n",
    "print(h.ndim)\n",
    "print(h.shape)\n",
    "print(h)"
   ]
  },
  {
   "cell_type": "markdown",
   "metadata": {
    "colab_type": "text",
    "id": "gHjz5Pv4tfYb"
   },
   "source": [
    "#### Difference between ndim, shape and size"
   ]
  },
  {
   "cell_type": "code",
   "execution_count": 0,
   "metadata": {
    "colab": {},
    "colab_type": "code",
    "collapsed": true,
    "id": "FEuRMVN3tfYd"
   },
   "outputs": [],
   "source": [
    "d = np.random.randint(3, 10, size = (2, 3, 4))"
   ]
  },
  {
   "cell_type": "code",
   "execution_count": 0,
   "metadata": {
    "colab": {},
    "colab_type": "code",
    "id": "q6ML-nIKtfYo",
    "outputId": "b6177d7a-df63-49fb-98d8-6e0ec25e4bd5"
   },
   "outputs": [
    {
     "name": "stdout",
     "output_type": "stream",
     "text": [
      "d ndim:  3\n",
      "d shape: (2, 3, 4)\n",
      "d size:  24\n"
     ]
    }
   ],
   "source": [
    "# Gives the dimensions of the array..\n",
    "print(\"d ndim: \", d.ndim)\n",
    "\n",
    "# Gives the no. of rows and columns (if any) of the array\n",
    "print(\"d shape:\", d.shape)\n",
    "\n",
    "# Gives the total no. of elements in the array \n",
    "print(\"d size: \", d.size)"
   ]
  },
  {
   "cell_type": "code",
   "execution_count": 0,
   "metadata": {
    "colab": {},
    "colab_type": "code",
    "id": "IQwTiFwPtfYx",
    "outputId": "6637b3b7-60f8-4131-a5d4-0d4ab2cc15b8"
   },
   "outputs": [
    {
     "name": "stdout",
     "output_type": "stream",
     "text": [
      "itemsize: 4 bytes\n",
      "nbytes: 96 bytes\n"
     ]
    }
   ],
   "source": [
    "# Gives the size of each element in array in  bytes\n",
    "print(\"itemsize:\", d.itemsize, \"bytes\")\n",
    "\n",
    "# Gives the total size of array in bytes \n",
    "print(\"nbytes:\", d.nbytes, \"bytes\")"
   ]
  },
  {
   "cell_type": "markdown",
   "metadata": {
    "colab_type": "text",
    "id": "J-a66GN-tfY5"
   },
   "source": [
    "#### Using np.empty"
   ]
  },
  {
   "cell_type": "markdown",
   "metadata": {
    "colab_type": "text",
    "id": "7HTsGzLetfY6"
   },
   "source": [
    "##### Return a new array of given shape and type, without initializing entries."
   ]
  },
  {
   "cell_type": "code",
   "execution_count": 0,
   "metadata": {
    "colab": {},
    "colab_type": "code",
    "id": "TE2FvSz4tfY8",
    "outputId": "785c7372-053e-4754-ef12-1ebadc925d94"
   },
   "outputs": [
    {
     "data": {
      "text/plain": [
       "array([[1.44058144e-311, 1.44061652e-311],\n",
       "       [1.44058840e-311, 2.96439388e-323]])"
      ]
     },
     "execution_count": 79,
     "metadata": {
      "tags": []
     },
     "output_type": "execute_result"
    }
   ],
   "source": [
    "# The elements are random values and by default the datatype is float\n",
    "np.empty([2, 2])"
   ]
  },
  {
   "cell_type": "code",
   "execution_count": 0,
   "metadata": {
    "colab": {},
    "colab_type": "code",
    "id": "7BXVRd5-tfZB",
    "outputId": "9c42eb70-0bc4-4956-82a9-63846141ce27"
   },
   "outputs": [
    {
     "data": {
      "text/plain": [
       "array([[3, 5],\n",
       "       [7, 9]])"
      ]
     },
     "execution_count": 80,
     "metadata": {
      "tags": []
     },
     "output_type": "execute_result"
    }
   ],
   "source": [
    "np.empty([2, 2], dtype=int)"
   ]
  },
  {
   "cell_type": "markdown",
   "metadata": {
    "colab_type": "text",
    "id": "or66kSTjtfZH"
   },
   "source": [
    "#### Using np.zeroes()"
   ]
  },
  {
   "cell_type": "markdown",
   "metadata": {
    "colab_type": "text",
    "id": "DcbxC37OtfZI"
   },
   "source": [
    "###### Return a new array of given shape and type, filled with zeros."
   ]
  },
  {
   "cell_type": "code",
   "execution_count": 0,
   "metadata": {
    "colab": {},
    "colab_type": "code",
    "id": "z-_wKKXqtfZK",
    "outputId": "842f4d7e-6cd6-4f67-acd9-713c21d25fa1"
   },
   "outputs": [
    {
     "data": {
      "text/plain": [
       "array([0., 0., 0., 0., 0.])"
      ]
     },
     "execution_count": 85,
     "metadata": {
      "tags": []
     },
     "output_type": "execute_result"
    }
   ],
   "source": [
    "np.zeros(6)"
   ]
  },
  {
   "cell_type": "code",
   "execution_count": 0,
   "metadata": {
    "colab": {},
    "colab_type": "code",
    "id": "NYhUVFyTtfZS",
    "outputId": "227ac11e-f610-40b7-8843-ab5e346bf888"
   },
   "outputs": [
    {
     "data": {
      "text/plain": [
       "array([0, 0, 0])"
      ]
     },
     "execution_count": 87,
     "metadata": {
      "tags": []
     },
     "output_type": "execute_result"
    }
   ],
   "source": [
    "np.zeros((3,), dtype=int)"
   ]
  },
  {
   "cell_type": "code",
   "execution_count": 0,
   "metadata": {
    "colab": {},
    "colab_type": "code",
    "id": "hDSd4VwktfZg",
    "outputId": "ce011a0e-54e1-4337-e76b-50466965b1dd"
   },
   "outputs": [
    {
     "data": {
      "text/plain": [
       "array([[0., 0., 0.],\n",
       "       [0., 0., 0.],\n",
       "       [0., 0., 0.],\n",
       "       [0., 0., 0.],\n",
       "       [0., 0., 0.]])"
      ]
     },
     "execution_count": 89,
     "metadata": {
      "tags": []
     },
     "output_type": "execute_result"
    }
   ],
   "source": [
    "np.zeros((5, 3))"
   ]
  },
  {
   "cell_type": "code",
   "execution_count": 0,
   "metadata": {
    "colab": {},
    "colab_type": "code",
    "id": "YCoigQymtfZo",
    "outputId": "27263eb7-b893-4c52-832e-d780aa081ecc"
   },
   "outputs": [
    {
     "data": {
      "text/plain": [
       "array([(0, 0), (0, 0), (0, 0)], dtype=[('a', '<i4'), ('b', '<i4')])"
      ]
     },
     "execution_count": 91,
     "metadata": {
      "tags": []
     },
     "output_type": "execute_result"
    }
   ],
   "source": [
    "np.zeros((3,), dtype=[('a', 'i4'), ('b', 'i4')]) # custom dtype"
   ]
  },
  {
   "cell_type": "markdown",
   "metadata": {
    "colab_type": "text",
    "id": "XLns0FHutfZy"
   },
   "source": [
    "#### Using np.ones()"
   ]
  },
  {
   "cell_type": "markdown",
   "metadata": {
    "colab_type": "text",
    "id": "ag1HcdkVtfZ1"
   },
   "source": [
    "##### Return a new array of given shape and type, filled with ones."
   ]
  },
  {
   "cell_type": "code",
   "execution_count": 0,
   "metadata": {
    "colab": {},
    "colab_type": "code",
    "id": "bT3x3hMStfZ2",
    "outputId": "b1faa4f1-d395-4963-bbc4-c1823652735a"
   },
   "outputs": [
    {
     "data": {
      "text/plain": [
       "array([1., 1., 1., 1., 1., 1., 1.])"
      ]
     },
     "execution_count": 97,
     "metadata": {
      "tags": []
     },
     "output_type": "execute_result"
    }
   ],
   "source": [
    "np.ones(7)"
   ]
  },
  {
   "cell_type": "code",
   "execution_count": 0,
   "metadata": {
    "colab": {},
    "colab_type": "code",
    "id": "29DrrQIptfZ9",
    "outputId": "e70dfb11-ab1f-40d0-8e0d-fa028d95630f"
   },
   "outputs": [
    {
     "data": {
      "text/plain": [
       "array([1, 1, 1])"
      ]
     },
     "execution_count": 96,
     "metadata": {
      "tags": []
     },
     "output_type": "execute_result"
    }
   ],
   "source": [
    "np.ones((3,), dtype=int)"
   ]
  },
  {
   "cell_type": "code",
   "execution_count": 0,
   "metadata": {
    "colab": {},
    "colab_type": "code",
    "id": "5kyLly0htfaE",
    "outputId": "7fa311a3-490d-41df-fb70-c47f044dff15"
   },
   "outputs": [
    {
     "data": {
      "text/plain": [
       "array([[1., 1., 1., 1.],\n",
       "       [1., 1., 1., 1.],\n",
       "       [1., 1., 1., 1.]])"
      ]
     },
     "execution_count": 98,
     "metadata": {
      "tags": []
     },
     "output_type": "execute_result"
    }
   ],
   "source": [
    "np.ones((3, 4))"
   ]
  },
  {
   "cell_type": "markdown",
   "metadata": {
    "colab_type": "text",
    "id": "GiavrsgOtfaP"
   },
   "source": [
    "#### Using np.asarray()"
   ]
  },
  {
   "cell_type": "markdown",
   "metadata": {
    "colab_type": "text",
    "id": "dpgmTg0ItfaQ"
   },
   "source": [
    "##### Convert the input to an array.Similar to np.array with fewer parameters "
   ]
  },
  {
   "cell_type": "code",
   "execution_count": 0,
   "metadata": {
    "colab": {},
    "colab_type": "code",
    "id": "CLERM79VtfaS",
    "outputId": "20a2c927-23dd-45ca-df87-db9df654d95c"
   },
   "outputs": [
    {
     "data": {
      "text/plain": [
       "array([3, 2, 5, 6, 8, 9])"
      ]
     },
     "execution_count": 103,
     "metadata": {
      "tags": []
     },
     "output_type": "execute_result"
    }
   ],
   "source": [
    "a = np.array([3, 2, 5, 6, 8, 9])\n",
    "a"
   ]
  },
  {
   "cell_type": "code",
   "execution_count": 0,
   "metadata": {
    "colab": {},
    "colab_type": "code",
    "id": "0U52BPIRtfaY",
    "outputId": "c81acdac-77a3-4198-dda3-380c5847c3aa"
   },
   "outputs": [
    {
     "data": {
      "text/plain": [
       "array([ 1.,  2.,  6.,  9., 10.], dtype=float32)"
      ]
     },
     "execution_count": 105,
     "metadata": {
      "tags": []
     },
     "output_type": "execute_result"
    }
   ],
   "source": [
    "b = np.array([1, 2, 6, 9, 10], dtype=np.float32)\n",
    "b"
   ]
  },
  {
   "cell_type": "code",
   "execution_count": 0,
   "metadata": {
    "colab": {},
    "colab_type": "code",
    "id": "WB6x8NjDtfag",
    "outputId": "d298960d-b47a-4f21-b363-b07e66e145f3"
   },
   "outputs": [
    {
     "data": {
      "text/plain": [
       "False"
      ]
     },
     "execution_count": 106,
     "metadata": {
      "tags": []
     },
     "output_type": "execute_result"
    }
   ],
   "source": [
    "# Datatypes are diff, so 'is' operator returns False \n",
    "np.asarray(b, dtype=np.float64) is b"
   ]
  },
  {
   "cell_type": "markdown",
   "metadata": {
    "colab_type": "text",
    "id": "xnkdYASctfao"
   },
   "source": [
    "#### Using np.linspace()"
   ]
  },
  {
   "cell_type": "markdown",
   "metadata": {
    "colab_type": "text",
    "id": "U_9-m4rJtfaq"
   },
   "source": [
    "##### Returns num evenly spaced samples, calculated over the interval [start, stop]."
   ]
  },
  {
   "cell_type": "code",
   "execution_count": 0,
   "metadata": {
    "colab": {},
    "colab_type": "code",
    "id": "yS7g9QHTtfas",
    "outputId": "1591fe2f-e209-49f8-fbc5-5381e2dbb534"
   },
   "outputs": [
    {
     "data": {
      "text/plain": [
       "array([10. , 17.5, 25. , 32.5, 40. ])"
      ]
     },
     "execution_count": 112,
     "metadata": {
      "tags": []
     },
     "output_type": "execute_result"
    }
   ],
   "source": [
    "# Returns 5 numbers between 10 and 40 that are equally spaced \n",
    "np.linspace(10, 40, 5)"
   ]
  },
  {
   "cell_type": "code",
   "execution_count": 0,
   "metadata": {
    "colab": {},
    "colab_type": "code",
    "id": "rkT90E7mtfa0",
    "outputId": "a761699e-f4ac-41fe-905f-38fc7b62b6e3"
   },
   "outputs": [
    {
     "data": {
      "text/plain": [
       "(array([ 2. ,  3.6,  5.2,  6.8,  8.4, 10. ]), 1.6)"
      ]
     },
     "execution_count": 122,
     "metadata": {
      "tags": []
     },
     "output_type": "execute_result"
    }
   ],
   "source": [
    "# If True, return (samples, step), where step is the spacing between samples.\n",
    "np.linspace(2.0, 10.0, 6, retstep=True)"
   ]
  },
  {
   "cell_type": "code",
   "execution_count": 0,
   "metadata": {
    "colab": {},
    "colab_type": "code",
    "id": "bjtjwNbBtfbA",
    "outputId": "f483a3d0-0e46-40e7-ee03-d1713707b53a"
   },
   "outputs": [
    {
     "data": {
      "text/plain": [
       "(array([2.        , 3.33333333, 4.66666667, 6.        , 7.33333333,\n",
       "        8.66666667]), 1.3333333333333333)"
      ]
     },
     "execution_count": 124,
     "metadata": {
      "tags": []
     },
     "output_type": "execute_result"
    }
   ],
   "source": [
    "# If endpoint is False, then the stoping values in not included, \n",
    "#by default its True\n",
    "np.linspace(2.0, 10.0, 6, endpoint=False, retstep=True)"
   ]
  },
  {
   "cell_type": "markdown",
   "metadata": {
    "colab_type": "text",
    "id": "7eWGHBfjtfbG"
   },
   "source": [
    "#### Slicing and Indexing "
   ]
  },
  {
   "cell_type": "code",
   "execution_count": 0,
   "metadata": {
    "colab": {},
    "colab_type": "code",
    "id": "3HeY1xRGtfbH",
    "outputId": "362ec533-6fdb-4978-ba8f-f0ee5c0ee46e"
   },
   "outputs": [
    {
     "data": {
      "text/plain": [
       "array([10, 12, 14, 16, 18, 20, 22, 24, 26, 28])"
      ]
     },
     "execution_count": 158,
     "metadata": {
      "tags": []
     },
     "output_type": "execute_result"
    }
   ],
   "source": [
    "a = np.arange(10, 30, 2) \n",
    "a"
   ]
  },
  {
   "cell_type": "code",
   "execution_count": 0,
   "metadata": {
    "colab": {},
    "colab_type": "code",
    "id": "DJiDiz3jtfbM",
    "outputId": "7807f3a6-6fca-491e-f63f-1d9a016c700a"
   },
   "outputs": [
    {
     "data": {
      "text/plain": [
       "array([14, 18, 22, 26])"
      ]
     },
     "execution_count": 159,
     "metadata": {
      "tags": []
     },
     "output_type": "execute_result"
    }
   ],
   "source": [
    "# Start slicing from 2 to 7(exclusive) with step 2\n",
    "s = slice(2,11,2) \n",
    "a[s]"
   ]
  },
  {
   "cell_type": "code",
   "execution_count": 0,
   "metadata": {
    "colab": {},
    "colab_type": "code",
    "id": "DdzdG9CBtfbR",
    "outputId": "5a294456-9a7b-4faf-8f3a-2d7951a8d002"
   },
   "outputs": [
    {
     "data": {
      "text/plain": [
       "array([14, 18, 22, 26])"
      ]
     },
     "execution_count": 160,
     "metadata": {
      "tags": []
     },
     "output_type": "execute_result"
    }
   ],
   "source": [
    "#another way of slicing without slice function \n",
    "a[2:11:2]"
   ]
  },
  {
   "cell_type": "code",
   "execution_count": 0,
   "metadata": {
    "colab": {},
    "colab_type": "code",
    "id": "PIX2kb6TtfbW",
    "outputId": "c920c8af-015b-4ae1-8208-d8d67b216f5d"
   },
   "outputs": [
    {
     "data": {
      "text/plain": [
       "array([20, 24, 28])"
      ]
     },
     "execution_count": 161,
     "metadata": {
      "tags": []
     },
     "output_type": "execute_result"
    }
   ],
   "source": [
    "# Starting from 10(exclusive) reverse indexing till -5 with step 2\n",
    "a[-5:10:2]"
   ]
  },
  {
   "cell_type": "code",
   "execution_count": 0,
   "metadata": {
    "colab": {},
    "colab_type": "code",
    "id": "4xgnYhmYtfbc",
    "outputId": "62c8a5cc-4416-41cc-8fd9-532cd2af9d68"
   },
   "outputs": [
    {
     "data": {
      "text/plain": [
       "array([12, 14, 16, 18, 20, 22, 24, 26, 28])"
      ]
     },
     "execution_count": 162,
     "metadata": {
      "tags": []
     },
     "output_type": "execute_result"
    }
   ],
   "source": [
    "# Starting from 10(exclusive) reverse indexing till -5 with step 2\n",
    "a[-9:10:1]"
   ]
  },
  {
   "cell_type": "code",
   "execution_count": 0,
   "metadata": {
    "colab": {},
    "colab_type": "code",
    "id": "dLVOuXwrtfbj",
    "outputId": "2ac70840-ba95-402e-e189-8563bbc4f696"
   },
   "outputs": [
    {
     "name": "stdout",
     "output_type": "stream",
     "text": [
      "14\n",
      "20\n"
     ]
    }
   ],
   "source": [
    "# Accessing through indices \n",
    "print(a[2])\n",
    "print(a[5])"
   ]
  },
  {
   "cell_type": "code",
   "execution_count": 0,
   "metadata": {
    "colab": {},
    "colab_type": "code",
    "id": "kTmlZhLotfbo",
    "outputId": "d3686211-cc55-4445-d78a-12524a7b1f3d"
   },
   "outputs": [
    {
     "data": {
      "text/plain": [
       "array([10, 12, 14, 16, 18])"
      ]
     },
     "execution_count": 164,
     "metadata": {
      "tags": []
     },
     "output_type": "execute_result"
    }
   ],
   "source": [
    "a[:5]"
   ]
  },
  {
   "cell_type": "code",
   "execution_count": 0,
   "metadata": {
    "colab": {},
    "colab_type": "code",
    "id": "s-Nd8cLJtfby",
    "outputId": "021785f8-3452-4d4d-fd46-87e28cdbef4d"
   },
   "outputs": [
    {
     "data": {
      "text/plain": [
       "array([20, 22, 24, 26, 28])"
      ]
     },
     "execution_count": 165,
     "metadata": {
      "tags": []
     },
     "output_type": "execute_result"
    }
   ],
   "source": [
    "a[5:]"
   ]
  },
  {
   "cell_type": "code",
   "execution_count": 0,
   "metadata": {
    "colab": {},
    "colab_type": "code",
    "id": "Zdi-WLAstfb3",
    "outputId": "f5067d11-05ab-43e2-e2e1-076ab287e795"
   },
   "outputs": [
    {
     "data": {
      "text/plain": [
       "array([14, 16, 18, 20, 22, 24])"
      ]
     },
     "execution_count": 171,
     "metadata": {
      "tags": []
     },
     "output_type": "execute_result"
    }
   ],
   "source": [
    "a[2:8]"
   ]
  },
  {
   "cell_type": "code",
   "execution_count": 0,
   "metadata": {
    "colab": {},
    "colab_type": "code",
    "id": "dg7RZGFdtfcB",
    "outputId": "fbce71f1-f620-4139-c0e9-de7eb23fa7c5"
   },
   "outputs": [
    {
     "data": {
      "text/plain": [
       "(2, 3, 1)"
      ]
     },
     "execution_count": 168,
     "metadata": {
      "tags": []
     },
     "output_type": "execute_result"
    }
   ],
   "source": [
    "x = np.array([[[1],[2],[3]], [[4],[5],[6]]])\n",
    "x.shape"
   ]
  },
  {
   "cell_type": "code",
   "execution_count": 0,
   "metadata": {
    "colab": {},
    "colab_type": "code",
    "id": "s7U6GquPtfcG",
    "outputId": "538a7976-e733-44ac-8b9e-4375c78944c9"
   },
   "outputs": [
    {
     "data": {
      "text/plain": [
       "array([[[1],\n",
       "        [2],\n",
       "        [3]],\n",
       "\n",
       "       [[4],\n",
       "        [5],\n",
       "        [6]]])"
      ]
     },
     "execution_count": 170,
     "metadata": {
      "tags": []
     },
     "output_type": "execute_result"
    }
   ],
   "source": [
    "x"
   ]
  },
  {
   "cell_type": "code",
   "execution_count": 0,
   "metadata": {
    "colab": {},
    "colab_type": "code",
    "id": "jhx4FVNItfcK",
    "outputId": "538e124b-c4e7-4b36-da81-84486d79dc1e"
   },
   "outputs": [
    {
     "data": {
      "text/plain": [
       "array([[[4],\n",
       "        [5],\n",
       "        [6]]])"
      ]
     },
     "execution_count": 169,
     "metadata": {
      "tags": []
     },
     "output_type": "execute_result"
    }
   ],
   "source": [
    " x[1:2]"
   ]
  },
  {
   "cell_type": "markdown",
   "metadata": {
    "colab_type": "text",
    "id": "RTpFJoqxtfcQ"
   },
   "source": [
    "#### Advanced Indexing "
   ]
  },
  {
   "cell_type": "markdown",
   "metadata": {
    "colab_type": "text",
    "id": "D6a4aGVKtfcR"
   },
   "source": [
    "##### There are two types of advanced indexing: integer and Boolean.Advanced indexing always returns a copy of the data (contrast with basic slicing that returns a view)."
   ]
  },
  {
   "cell_type": "markdown",
   "metadata": {
    "colab_type": "text",
    "id": "sdnWmCiitfcT"
   },
   "source": [
    "#### Integer indexing"
   ]
  },
  {
   "cell_type": "code",
   "execution_count": 0,
   "metadata": {
    "colab": {},
    "colab_type": "code",
    "id": "vtzr7j_CtfcU"
   },
   "outputs": [],
   "source": [
    "x = np.array([[1, 2, 3], [4, 5, 6], [7, 8, 9]])"
   ]
  },
  {
   "cell_type": "code",
   "execution_count": 0,
   "metadata": {
    "colab": {},
    "colab_type": "code",
    "id": "Gehk1PC_tfcZ",
    "outputId": "28a415b0-7774-49b8-8c93-b83bd40157ce"
   },
   "outputs": [
    {
     "data": {
      "text/plain": [
       "array([2, 6, 8])"
      ]
     },
     "execution_count": 193,
     "metadata": {
      "tags": []
     },
     "output_type": "execute_result"
    }
   ],
   "source": [
    "# [0, 1, 2] represnt the row numbers to select from, \n",
    "#then [1, 2, 1] represnts the column elemnts to select from each row\n",
    "#We select 3 elements in this way. \n",
    "\n",
    "#From 0th row, we are selecting 1st element i.e 2, from 1st row,\n",
    "#we are selecting 2nd element i.e 6 and so on.\n",
    "x[[0, 1, 2], [1, 2, 1]]"
   ]
  },
  {
   "cell_type": "code",
   "execution_count": 0,
   "metadata": {
    "colab": {},
    "colab_type": "code",
    "id": "GxFR9XdVtfcg",
    "outputId": "f3fe40e0-e2b1-4e6d-84de-33f69bca4068"
   },
   "outputs": [
    {
     "data": {
      "text/plain": [
       "array([[ 0,  1,  2],\n",
       "       [ 3,  4,  5],\n",
       "       [ 6,  7,  8],\n",
       "       [ 9, 10, 11]])"
      ]
     },
     "execution_count": 194,
     "metadata": {
      "tags": []
     },
     "output_type": "execute_result"
    }
   ],
   "source": [
    "x = np.array([[ 0,  1,  2],\n",
    "    [ 3,  4,  5],\n",
    "    [ 6,  7,  8],\n",
    "    [ 9, 10, 11]])\n",
    "x"
   ]
  },
  {
   "cell_type": "code",
   "execution_count": 0,
   "metadata": {
    "colab": {},
    "colab_type": "code",
    "id": "N2qN67vytfcl"
   },
   "outputs": [],
   "source": [
    "rows = np.array([[0, 0],\n",
    "                  [3, 3]], dtype=np.intp)\n",
    "columns = np.array([[0, 2],\n",
    "                   [0, 2]], dtype=np.intp)"
   ]
  },
  {
   "cell_type": "code",
   "execution_count": 0,
   "metadata": {
    "colab": {},
    "colab_type": "code",
    "id": "RGOlaKATtfcp",
    "outputId": "e87e0ef0-5fe6-422a-9712-687bc86aed72"
   },
   "outputs": [
    {
     "data": {
      "text/plain": [
       "array([[0, 0],\n",
       "       [3, 3]], dtype=int64)"
      ]
     },
     "execution_count": 196,
     "metadata": {
      "tags": []
     },
     "output_type": "execute_result"
    }
   ],
   "source": [
    "rows"
   ]
  },
  {
   "cell_type": "code",
   "execution_count": 0,
   "metadata": {
    "colab": {},
    "colab_type": "code",
    "id": "LWpwImtPtfcv",
    "outputId": "1629e865-a4a0-4aa4-f0be-fa1bdab8fa9f"
   },
   "outputs": [
    {
     "data": {
      "text/plain": [
       "array([[0, 2],\n",
       "       [0, 2]], dtype=int64)"
      ]
     },
     "execution_count": 197,
     "metadata": {
      "tags": []
     },
     "output_type": "execute_result"
    }
   ],
   "source": [
    "columns"
   ]
  },
  {
   "cell_type": "code",
   "execution_count": 0,
   "metadata": {
    "colab": {},
    "colab_type": "code",
    "id": "bTyA7v5ltfc4",
    "outputId": "baf39f8f-45b8-4ff7-ccd1-9d48954e5471"
   },
   "outputs": [
    {
     "data": {
      "text/plain": [
       "array([[ 0,  2],\n",
       "       [ 9, 11]])"
      ]
     },
     "execution_count": 198,
     "metadata": {
      "tags": []
     },
     "output_type": "execute_result"
    }
   ],
   "source": [
    "x[rows, columns]"
   ]
  },
  {
   "cell_type": "markdown",
   "metadata": {
    "colab_type": "text",
    "id": "JYtofHUytfdF"
   },
   "source": [
    "#### Boolean Indexing"
   ]
  },
  {
   "cell_type": "code",
   "execution_count": 0,
   "metadata": {
    "colab": {},
    "colab_type": "code",
    "id": "yd4_n70_tfdG",
    "outputId": "62d869a1-a5b9-498a-cf0c-cae4ed82acd7"
   },
   "outputs": [
    {
     "data": {
      "text/plain": [
       "array([[ 3,  4,  5],\n",
       "       [ 6,  7,  8],\n",
       "       [ 9, 10, 11]])"
      ]
     },
     "execution_count": 201,
     "metadata": {
      "tags": []
     },
     "output_type": "execute_result"
    }
   ],
   "source": [
    "rowsum = x.sum(-1)\n",
    "x[rowsum >= 5, :]"
   ]
  },
  {
   "cell_type": "code",
   "execution_count": 0,
   "metadata": {
    "colab": {},
    "colab_type": "code",
    "id": "P1-u_J6RtfdL",
    "outputId": "83f8f9e2-1d6a-4690-d669-0d76356153fd"
   },
   "outputs": [
    {
     "data": {
      "text/plain": [
       "array([ 8,  9, 10, 11])"
      ]
     },
     "execution_count": 203,
     "metadata": {
      "tags": []
     },
     "output_type": "execute_result"
    }
   ],
   "source": [
    "x[x>7]"
   ]
  },
  {
   "cell_type": "markdown",
   "metadata": {
    "colab_type": "text",
    "id": "RcvBTubDtfdQ"
   },
   "source": [
    "#### String Operations"
   ]
  },
  {
   "cell_type": "code",
   "execution_count": 0,
   "metadata": {
    "colab": {},
    "colab_type": "code",
    "id": "K5TWP_dbtfdR",
    "outputId": "7f041c39-8b6c-41f9-8298-2d6f416894d6"
   },
   "outputs": [
    {
     "data": {
      "text/plain": [
       "array(['hello hrc'], dtype='<U9')"
      ]
     },
     "execution_count": 213,
     "metadata": {
      "tags": []
     },
     "output_type": "execute_result"
    }
   ],
   "source": [
    "np.char.add(['hello'],[' hrc']) "
   ]
  },
  {
   "cell_type": "code",
   "execution_count": 0,
   "metadata": {
    "colab": {},
    "colab_type": "code",
    "id": "lNovV6oKtfdV",
    "outputId": "18d3a873-5651-433b-c11a-723b06948b8f"
   },
   "outputs": [
    {
     "data": {
      "text/plain": [
       "array(['Hey HRC', 'Hi KIIT'], dtype='<U8')"
      ]
     },
     "execution_count": 214,
     "metadata": {
      "tags": []
     },
     "output_type": "execute_result"
    }
   ],
   "source": [
    "np.char.add(['Hey', 'Hi'],[' HRC', ' KIIT'])"
   ]
  },
  {
   "cell_type": "code",
   "execution_count": 0,
   "metadata": {
    "colab": {},
    "colab_type": "code",
    "id": "Mdm-JioKtfdY",
    "outputId": "67ac48cf-b767-4368-ac19-0ea14e1b4b95"
   },
   "outputs": [
    {
     "data": {
      "text/plain": [
       "array('Hey Hey Hey ', dtype='<U12')"
      ]
     },
     "execution_count": 215,
     "metadata": {
      "tags": []
     },
     "output_type": "execute_result"
    }
   ],
   "source": [
    "np.char.multiply('Hey ',3)"
   ]
  },
  {
   "cell_type": "code",
   "execution_count": 0,
   "metadata": {
    "colab": {},
    "colab_type": "code",
    "id": "qY93q-E_tfdd",
    "outputId": "5fbb3d6a-872a-47fe-883c-e8cc318b4812"
   },
   "outputs": [
    {
     "data": {
      "text/plain": [
       "array('*****highradius*****', dtype='<U20')"
      ]
     },
     "execution_count": 210,
     "metadata": {
      "tags": []
     },
     "output_type": "execute_result"
    }
   ],
   "source": [
    "np.char.center('highradius', 20,fillchar = '*')"
   ]
  },
  {
   "cell_type": "code",
   "execution_count": 0,
   "metadata": {
    "colab": {},
    "colab_type": "code",
    "id": "Vl4Gq84Atfdg",
    "outputId": "93dfa2ec-8fd8-4990-ce62-52af539f943c"
   },
   "outputs": [
    {
     "data": {
      "text/plain": [
       "array('Welcome to kiit', dtype='<U15')"
      ]
     },
     "execution_count": 216,
     "metadata": {
      "tags": []
     },
     "output_type": "execute_result"
    }
   ],
   "source": [
    "np.char.capitalize('welcome to kiit')"
   ]
  },
  {
   "cell_type": "code",
   "execution_count": 0,
   "metadata": {
    "colab": {},
    "colab_type": "code",
    "id": "PlK4ViGItfdo",
    "outputId": "f5057fab-1083-408b-9109-de0c3973a911"
   },
   "outputs": [
    {
     "data": {
      "text/plain": [
       "array(['india', 'pakistan'], dtype='<U8')"
      ]
     },
     "execution_count": 217,
     "metadata": {
      "tags": []
     },
     "output_type": "execute_result"
    }
   ],
   "source": [
    "np.char.lower(['INDIA','PAKISTAN']) "
   ]
  },
  {
   "cell_type": "code",
   "execution_count": 0,
   "metadata": {
    "colab": {},
    "colab_type": "code",
    "id": "IrKDS67Ntfds",
    "outputId": "32cc93de-7b36-49e3-cde1-54ee2a712f32"
   },
   "outputs": [
    {
     "data": {
      "text/plain": [
       "array('INDIA', dtype='<U5')"
      ]
     },
     "execution_count": 218,
     "metadata": {
      "tags": []
     },
     "output_type": "execute_result"
    }
   ],
   "source": [
    "np.char.upper('india') "
   ]
  },
  {
   "cell_type": "code",
   "execution_count": 0,
   "metadata": {
    "colab": {},
    "colab_type": "code",
    "id": "ijVY73UXtfd4",
    "outputId": "ffdc763d-729b-468f-f016-61362f5ecc10"
   },
   "outputs": [
    {
     "data": {
      "text/plain": [
       "array(list(['hello', 'how', 'are', 'you?']), dtype=object)"
      ]
     },
     "execution_count": 219,
     "metadata": {
      "tags": []
     },
     "output_type": "execute_result"
    }
   ],
   "source": [
    "np.char.split ('hello how are you?') "
   ]
  },
  {
   "cell_type": "code",
   "execution_count": 0,
   "metadata": {
    "colab": {},
    "colab_type": "code",
    "id": "OTMygUuptfd7",
    "outputId": "bf1ae880-27be-46ff-ab39-cb9ef38bfe2f"
   },
   "outputs": [
    {
     "data": {
      "text/plain": [
       "array(['ighradius', 'company', 'jav'], dtype='<U10')"
      ]
     },
     "execution_count": 222,
     "metadata": {
      "tags": []
     },
     "output_type": "execute_result"
    }
   ],
   "source": [
    "np.char.strip(['aighradius','company','java'],'a')"
   ]
  },
  {
   "cell_type": "code",
   "execution_count": 0,
   "metadata": {
    "colab": {},
    "colab_type": "code",
    "id": "jjWUy45ntfd_",
    "outputId": "f6250a36-ecb2-42fb-ae0f-2a6e859efdbe"
   },
   "outputs": [
    {
     "data": {
      "text/plain": [
       "array('shok aror', dtype='<U11')"
      ]
     },
     "execution_count": 221,
     "metadata": {
      "tags": []
     },
     "output_type": "execute_result"
    }
   ],
   "source": [
    "np.char.strip('ashok arora','a') "
   ]
  },
  {
   "cell_type": "code",
   "execution_count": 0,
   "metadata": {
    "colab": {},
    "colab_type": "code",
    "id": "HgDndqm8tfeE",
    "outputId": "458584e8-31db-4bb7-8899-d6ddbd3adc99"
   },
   "outputs": [
    {
     "data": {
      "text/plain": [
       "array('d:m:y', dtype='<U5')"
      ]
     },
     "execution_count": 223,
     "metadata": {
      "tags": []
     },
     "output_type": "execute_result"
    }
   ],
   "source": [
    "np.char.join(':','dmy') "
   ]
  },
  {
   "cell_type": "code",
   "execution_count": 0,
   "metadata": {
    "colab": {},
    "colab_type": "code",
    "id": "UeY1DjpltfeI",
    "outputId": "0cf3f81a-96d3-48bd-c1a2-a90ae16f79c3"
   },
   "outputs": [
    {
     "data": {
      "text/plain": [
       "array(['d:m:y', 'y-m-d'], dtype='<U5')"
      ]
     },
     "execution_count": 224,
     "metadata": {
      "tags": []
     },
     "output_type": "execute_result"
    }
   ],
   "source": [
    "np.char.join([':','-'],['dmy','ymd'])"
   ]
  },
  {
   "cell_type": "code",
   "execution_count": 0,
   "metadata": {
    "colab": {},
    "colab_type": "code",
    "id": "N-jlZ8EUtfeL",
    "outputId": "fe320fc1-42cf-47bc-9979-464c35cea556"
   },
   "outputs": [
    {
     "data": {
      "text/plain": [
       "array(\"I'm a bad person\", dtype='<U16')"
      ]
     },
     "execution_count": 225,
     "metadata": {
      "tags": []
     },
     "output_type": "execute_result"
    }
   ],
   "source": [
    "np.char.replace (\"I'm a good person\", 'good', 'bad')"
   ]
  },
  {
   "cell_type": "markdown",
   "metadata": {
    "colab_type": "text",
    "id": "9JPQQO5rtfeP"
   },
   "source": [
    "#### Mathematical Operations"
   ]
  },
  {
   "cell_type": "code",
   "execution_count": 13,
   "metadata": {
    "colab": {},
    "colab_type": "code",
    "id": "wli95VmBtfeP",
    "outputId": "26a0bb65-5daa-4547-84ce-959511a7e808"
   },
   "outputs": [
    {
     "data": {
      "text/plain": [
       "array([  1.   ,  59.55 , 126.   ,   0.567,  65.332])"
      ]
     },
     "execution_count": 13,
     "metadata": {},
     "output_type": "execute_result"
    }
   ],
   "source": [
    "a = np.array([1.0, 59.55, 126, 0.567, 65.332]) \n",
    "a"
   ]
  },
  {
   "cell_type": "code",
   "execution_count": 14,
   "metadata": {
    "colab": {},
    "colab_type": "code",
    "id": "XUeVGHxHtfeV",
    "outputId": "2ea74ea4-5bb7-4ddd-a067-6104eac82b9a"
   },
   "outputs": [
    {
     "data": {
      "text/plain": [
       "array([  1.,  60., 126.,   1.,  65.])"
      ]
     },
     "execution_count": 14,
     "metadata": {},
     "output_type": "execute_result"
    }
   ],
   "source": [
    "np.around(a) "
   ]
  },
  {
   "cell_type": "code",
   "execution_count": 15,
   "metadata": {
    "colab": {},
    "colab_type": "code",
    "id": "jczj-9yJtfeb",
    "outputId": "86a449d2-6651-4801-e498-f3126a5b142e"
   },
   "outputs": [
    {
     "data": {
      "text/plain": [
       "array([  1. ,  59.6, 126. ,   0.6,  65.3])"
      ]
     },
     "execution_count": 15,
     "metadata": {},
     "output_type": "execute_result"
    }
   ],
   "source": [
    "np.around(a, decimals = 1) \n"
   ]
  },
  {
   "cell_type": "code",
   "execution_count": 0,
   "metadata": {
    "colab": {},
    "colab_type": "code",
    "id": "aHoPMZ5Wtfee",
    "outputId": "e6347d45-9a4d-4789-af21-71bf976e1c46"
   },
   "outputs": [
    {
     "data": {
      "text/plain": [
       "array([  0.,  60., 130.,   0.,  70.])"
      ]
     },
     "execution_count": 235,
     "metadata": {
      "tags": []
     },
     "output_type": "execute_result"
    }
   ],
   "source": [
    "np.around(a, decimals = -1)"
   ]
  },
  {
   "cell_type": "code",
   "execution_count": 0,
   "metadata": {
    "colab": {},
    "colab_type": "code",
    "id": "zJtE6S-4tfek",
    "outputId": "d7151e03-28bb-409e-bc5b-56d3635a013a"
   },
   "outputs": [
    {
     "data": {
      "text/plain": [
       "array([-1.7,  1.5, -0.2,  0.6, 10. ])"
      ]
     },
     "execution_count": 237,
     "metadata": {
      "tags": []
     },
     "output_type": "execute_result"
    }
   ],
   "source": [
    "a = np.array([-1.7, 1.5, -0.2, 0.6, 10]) \n",
    "a"
   ]
  },
  {
   "cell_type": "code",
   "execution_count": 0,
   "metadata": {
    "colab": {},
    "colab_type": "code",
    "id": "jSC8OZpAtfen",
    "outputId": "38d81a0e-05b2-4fd2-8ac8-baa668f13113"
   },
   "outputs": [
    {
     "data": {
      "text/plain": [
       "array([-2.,  1., -1.,  0., 10.])"
      ]
     },
     "execution_count": 238,
     "metadata": {
      "tags": []
     },
     "output_type": "execute_result"
    }
   ],
   "source": [
    "np.floor(a)"
   ]
  },
  {
   "cell_type": "code",
   "execution_count": 0,
   "metadata": {
    "colab": {},
    "colab_type": "code",
    "id": "ErGGX7Kgtfes",
    "outputId": "4e61fbbc-f6ae-4bb9-a3f0-9dd78d753158"
   },
   "outputs": [
    {
     "data": {
      "text/plain": [
       "array([-1.,  2., -0.,  1., 10.])"
      ]
     },
     "execution_count": 239,
     "metadata": {
      "tags": []
     },
     "output_type": "execute_result"
    }
   ],
   "source": [
    "np.ceil(a)"
   ]
  },
  {
   "cell_type": "markdown",
   "metadata": {
    "colab_type": "text",
    "id": "ag7y_a1-tfe4"
   },
   "source": [
    "#### Arithmetical Operations and linear Algebra"
   ]
  },
  {
   "cell_type": "code",
   "execution_count": 0,
   "metadata": {
    "colab": {},
    "colab_type": "code",
    "id": "FGtmMjintfe7"
   },
   "outputs": [],
   "source": [
    "a = np.array([0.25, 1.33, 1, 0, 100]) "
   ]
  },
  {
   "cell_type": "code",
   "execution_count": 0,
   "metadata": {
    "colab": {},
    "colab_type": "code",
    "id": "GfbpTNKwtfe-",
    "outputId": "e5c07fc5-2533-400f-9cc8-ec2029a21e40"
   },
   "outputs": [
    {
     "name": "stderr",
     "output_type": "stream",
     "text": [
      "E:\\sahiti.krishna\\Anaconda3\\lib\\site-packages\\ipykernel_launcher.py:1: RuntimeWarning: divide by zero encountered in reciprocal\n",
      "  \"\"\"Entry point for launching an IPython kernel.\n"
     ]
    },
    {
     "data": {
      "text/plain": [
       "array([4.       , 0.7518797, 1.       ,       inf, 0.01     ])"
      ]
     },
     "execution_count": 242,
     "metadata": {
      "tags": []
     },
     "output_type": "execute_result"
    }
   ],
   "source": [
    "np.reciprocal(a)"
   ]
  },
  {
   "cell_type": "code",
   "execution_count": 0,
   "metadata": {
    "colab": {},
    "colab_type": "code",
    "id": "qIhhKhFktffE",
    "outputId": "dcadaa4d-c48c-4b5e-c053-15f5d660fc76"
   },
   "outputs": [
    {
     "data": {
      "text/plain": [
       "array([100])"
      ]
     },
     "execution_count": 244,
     "metadata": {
      "tags": []
     },
     "output_type": "execute_result"
    }
   ],
   "source": [
    "b = np.array([100], dtype = int) \n",
    "b"
   ]
  },
  {
   "cell_type": "code",
   "execution_count": 0,
   "metadata": {
    "colab": {},
    "colab_type": "code",
    "id": "Tdmgq-iwtffJ",
    "outputId": "30cc06b3-e36c-4675-f048-7a8e9d2c1f4c"
   },
   "outputs": [
    {
     "data": {
      "text/plain": [
       "array([0], dtype=int32)"
      ]
     },
     "execution_count": 245,
     "metadata": {
      "tags": []
     },
     "output_type": "execute_result"
    }
   ],
   "source": [
    "np.reciprocal(b) "
   ]
  },
  {
   "cell_type": "code",
   "execution_count": 0,
   "metadata": {
    "colab": {},
    "colab_type": "code",
    "id": "SzIwkbvmtffQ"
   },
   "outputs": [],
   "source": [
    "a = np.array([2, 3, 5, 0, 100]) "
   ]
  },
  {
   "cell_type": "code",
   "execution_count": 0,
   "metadata": {
    "colab": {},
    "colab_type": "code",
    "id": "xmixatSTtffT",
    "outputId": "6e8c6539-8e38-4bec-c746-bcbd60cd289a"
   },
   "outputs": [
    {
     "data": {
      "text/plain": [
       "array([    4,     9,    25,     0, 10000], dtype=int32)"
      ]
     },
     "execution_count": 248,
     "metadata": {
      "tags": []
     },
     "output_type": "execute_result"
    }
   ],
   "source": [
    "np.power(a,2)"
   ]
  },
  {
   "cell_type": "code",
   "execution_count": 0,
   "metadata": {
    "colab": {},
    "colab_type": "code",
    "id": "XFWC3YQztffX"
   },
   "outputs": [],
   "source": [
    "a = np.array([10,20,30]) \n",
    "b = np.array([3,5,7]) "
   ]
  },
  {
   "cell_type": "code",
   "execution_count": 0,
   "metadata": {
    "colab": {},
    "colab_type": "code",
    "id": "AA7y_4Jdtffc",
    "outputId": "6bbb21ac-2dc6-4e95-97f4-461abf9f1013"
   },
   "outputs": [
    {
     "data": {
      "text/plain": [
       "array([1, 0, 2], dtype=int32)"
      ]
     },
     "execution_count": 250,
     "metadata": {
      "tags": []
     },
     "output_type": "execute_result"
    }
   ],
   "source": [
    "np.mod(a,b) "
   ]
  },
  {
   "cell_type": "code",
   "execution_count": 0,
   "metadata": {
    "colab": {},
    "colab_type": "code",
    "id": "MDlpW4sytffh",
    "outputId": "6b2ae0eb-d480-479d-f4fc-fdafc9f34f62"
   },
   "outputs": [
    {
     "data": {
      "text/plain": [
       "array([-0.-5.6j,  0.+0.2j, 11.+0.j ,  1.+1.j ])"
      ]
     },
     "execution_count": 252,
     "metadata": {
      "tags": []
     },
     "output_type": "execute_result"
    }
   ],
   "source": [
    "a = np.array([-5.6j, 0.2j, 11. , 1+1j])\n",
    "a"
   ]
  },
  {
   "cell_type": "code",
   "execution_count": 0,
   "metadata": {
    "colab": {},
    "colab_type": "code",
    "id": "Rx5KdTTatffl",
    "outputId": "ec3df82c-4050-46d5-f555-89b4f0c959e8"
   },
   "outputs": [
    {
     "data": {
      "text/plain": [
       "array([-0.,  0., 11.,  1.])"
      ]
     },
     "execution_count": 253,
     "metadata": {
      "tags": []
     },
     "output_type": "execute_result"
    }
   ],
   "source": [
    "np.real(a)"
   ]
  },
  {
   "cell_type": "code",
   "execution_count": 0,
   "metadata": {
    "colab": {},
    "colab_type": "code",
    "id": "7dbTpnK1tffq",
    "outputId": "f6acbfe8-9e17-4892-e30a-56b484a523d2"
   },
   "outputs": [
    {
     "data": {
      "text/plain": [
       "array([-5.6,  0.2,  0. ,  1. ])"
      ]
     },
     "execution_count": 254,
     "metadata": {
      "tags": []
     },
     "output_type": "execute_result"
    }
   ],
   "source": [
    "np.imag(a) "
   ]
  },
  {
   "cell_type": "code",
   "execution_count": 0,
   "metadata": {
    "colab": {},
    "colab_type": "code",
    "id": "SJt3JKdLtfft",
    "outputId": "9fdb81d1-2f86-4b95-ad33-0a47b63da78e"
   },
   "outputs": [
    {
     "data": {
      "text/plain": [
       "array([-0.+5.6j,  0.-0.2j, 11.-0.j ,  1.-1.j ])"
      ]
     },
     "execution_count": 255,
     "metadata": {
      "tags": []
     },
     "output_type": "execute_result"
    }
   ],
   "source": [
    "np.conj(a)"
   ]
  },
  {
   "cell_type": "code",
   "execution_count": 0,
   "metadata": {
    "colab": {},
    "colab_type": "code",
    "id": "1ooBTAQwtffw",
    "outputId": "3dacdcb0-2bf5-4a92-93dd-abb2a8466be1"
   },
   "outputs": [
    {
     "data": {
      "text/plain": [
       "array([-90.,  90.,   0.,  45.])"
      ]
     },
     "execution_count": 257,
     "metadata": {
      "tags": []
     },
     "output_type": "execute_result"
    }
   ],
   "source": [
    "np.angle(a, deg = True)"
   ]
  },
  {
   "cell_type": "code",
   "execution_count": 0,
   "metadata": {
    "colab": {},
    "colab_type": "code",
    "id": "cCZkgP6Atff8",
    "outputId": "2cbf6f7a-39ef-4790-a585-399d1e379b03"
   },
   "outputs": [
    {
     "data": {
      "text/plain": [
       "array([[37, 40],\n",
       "       [85, 92]])"
      ]
     },
     "execution_count": 258,
     "metadata": {
      "tags": []
     },
     "output_type": "execute_result"
    }
   ],
   "source": [
    "a = np.array([[1,2],[3,4]]) \n",
    "b = np.array([[11,12],[13,14]]) \n",
    "np.dot(a,b)"
   ]
  },
  {
   "cell_type": "code",
   "execution_count": 0,
   "metadata": {
    "colab": {},
    "colab_type": "code",
    "id": "vPyYnixKtfgC",
    "outputId": "6c389b12-b0a1-4bd0-afd8-b4c6a6f93852"
   },
   "outputs": [
    {
     "data": {
      "text/plain": [
       "array([[4, 1],\n",
       "       [2, 2]])"
      ]
     },
     "execution_count": 260,
     "metadata": {
      "tags": []
     },
     "output_type": "execute_result"
    }
   ],
   "source": [
    "a = [[1,0],[0,1]] \n",
    "b = [[4,1],[2,2]] \n",
    "np.matmul(a,b)"
   ]
  },
  {
   "cell_type": "code",
   "execution_count": 0,
   "metadata": {
    "colab": {},
    "colab_type": "code",
    "id": "wkqUYupGtfgG",
    "outputId": "1bfdc549-526f-4838-8b77-d08b2b28787a"
   },
   "outputs": [
    {
     "data": {
      "text/plain": [
       "array([[[ 2,  3],\n",
       "        [ 6, 11]],\n",
       "\n",
       "       [[10, 19],\n",
       "        [14, 27]]])"
      ]
     },
     "execution_count": 261,
     "metadata": {
      "tags": []
     },
     "output_type": "execute_result"
    }
   ],
   "source": [
    "a = np.arange(8).reshape(2,2,2) \n",
    "b = np.arange(4).reshape(2,2) \n",
    "np.matmul(a,b)"
   ]
  },
  {
   "cell_type": "code",
   "execution_count": 0,
   "metadata": {
    "colab": {},
    "colab_type": "code",
    "id": "XUfLsJNntfgP",
    "outputId": "aace2623-8363-453e-8575-2e8d23c50c3d"
   },
   "outputs": [
    {
     "data": {
      "text/plain": [
       "-2.0000000000000004"
      ]
     },
     "execution_count": 262,
     "metadata": {
      "tags": []
     },
     "output_type": "execute_result"
    }
   ],
   "source": [
    "a = np.array([[1,2], [3,4]]) \n",
    "np.linalg.det(a)"
   ]
  },
  {
   "cell_type": "code",
   "execution_count": 19,
   "metadata": {},
   "outputs": [
    {
     "name": "stdout",
     "output_type": "stream",
     "text": [
      "['hellosys' 'hihrc']\n"
     ]
    }
   ],
   "source": [
    "a=np.char.add(['hello','hi'],['sys','hrc'])\n",
    "print(a)"
   ]
  },
  {
   "cell_type": "code",
   "execution_count": null,
   "metadata": {},
   "outputs": [],
   "source": []
  }
 ],
 "metadata": {
  "colab": {
   "name": "Numpy-Handson.ipynb",
   "provenance": [],
   "version": "0.3.2"
  },
  "kernelspec": {
   "display_name": "Python 3",
   "language": "python",
   "name": "python3"
  },
  "language_info": {
   "codemirror_mode": {
    "name": "ipython",
    "version": 3
   },
   "file_extension": ".py",
   "mimetype": "text/x-python",
   "name": "python",
   "nbconvert_exporter": "python",
   "pygments_lexer": "ipython3",
   "version": "3.7.4"
  }
 },
 "nbformat": 4,
 "nbformat_minor": 1
}
